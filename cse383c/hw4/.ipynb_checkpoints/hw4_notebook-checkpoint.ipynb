{
 "cells": [
  {
   "cell_type": "markdown",
   "id": "03d69e3a",
   "metadata": {},
   "source": [
    "## Numerical Analysis HW4"
   ]
  },
  {
   "cell_type": "code",
   "execution_count": 1,
   "id": "44da36dd",
   "metadata": {},
   "outputs": [],
   "source": [
    "# Kenneth Meyer\n",
    "# 10/27/22"
   ]
  },
  {
   "cell_type": "code",
   "execution_count": 2,
   "id": "cf5068fc",
   "metadata": {},
   "outputs": [],
   "source": [
    "# imports\n",
    "import numpy as np\n",
    "import scipy\n",
    "import copy"
   ]
  },
  {
   "cell_type": "markdown",
   "id": "1d3d8b06",
   "metadata": {},
   "source": [
    "### 2. [5 points. Gram-Schmidt implementation]"
   ]
  },
  {
   "cell_type": "code",
   "execution_count": 3,
   "id": "55c68b78",
   "metadata": {},
   "outputs": [],
   "source": [
    "# all matrix inputs will by numpy matrices\n",
    "# things seem to keep being re-written, I'm a little confused why.\n",
    "def gramschmidt(A,flag):\n",
    "    \"\"\"\n",
    "    inputs\n",
    "        A : m x n full rank matrix s.t. m >= n\n",
    "        flag : bool, true -> CGS, false -> MGS\n",
    "    outputs\n",
    "        Q : m x n\n",
    "        R : n x n\n",
    "    \"\"\"\n",
    "    \n",
    "    m = A.shape[0] # rows\n",
    "    n = A.shape[1] # columns\n",
    "    \n",
    "    # pre-allocation of Q and R matricies\n",
    "    Q = np.zeros((m,n))\n",
    "    R = np.zeros((n,n))\n",
    "    \n",
    "    # check these, there might be typos idk\n",
    "    \n",
    "    # CGS (classical gram-schmidt implementation)\n",
    "    if flag == True:\n",
    "        \n",
    "        #print(\"classical!\")\n",
    "        for j in range(0,n):\n",
    "            v_j = A[:,j] # vj = aj\n",
    "            # double check indexing here?...\n",
    "            for i in range(0,j):\n",
    "                R[i,j] = np.dot(Q[:,i],A[:,j]) # dot product\n",
    "                v_j = v_j - R[i,j]*Q[:,i]\n",
    "                \n",
    "            R[j,j] = np.linalg.norm(v_j,2)\n",
    "            Q[:,j] = v_j/R[j,j]          \n",
    "                \n",
    "    # MGS (modified gram-schmidt implementation)\n",
    "    elif flag == False:\n",
    "    \n",
    "        #print(\"modified!\")\n",
    "        # can skip allocation of v_j to save storage, copying to avoid changing pass by reference var.\n",
    "        v = np.zeros(A.shape)\n",
    "        for j in range(0,n):\n",
    "            v[:,j] = A[:,j]\n",
    "        \n",
    "        for i in range(0,n):\n",
    "            R[i,i] = np.linalg.norm(v[:,i],2) # norm not specified\n",
    "            Q[:,i] = v[:,i]/R[i,i]\n",
    "            for j in range(i + 1,n):\n",
    "                #R[i,j] = Q[:,i] * A[:,j]\n",
    "                R[i,j] = np.dot(Q[:,i],v[:,j])\n",
    "                \n",
    "                v[:,j] = v[:,j] - R[i,j]*Q[:,i]\n",
    "    \n",
    "    return Q,R"
   ]
  },
  {
   "cell_type": "code",
   "execution_count": 4,
   "id": "dca60a71",
   "metadata": {},
   "outputs": [
    {
     "name": "stdout",
     "output_type": "stream",
     "text": [
      "[[ 0.70710678  0.40824829 -0.57735027]\n",
      " [ 0.70710678 -0.40824829  0.57735027]\n",
      " [ 0.          0.81649658  0.57735027]]\n",
      "[[1.41421356 0.70710678 0.70710678]\n",
      " [0.         1.22474487 0.40824829]\n",
      " [0.         0.         1.15470054]]\n",
      "[[-0.70710678  0.40824829 -0.57735027]\n",
      " [-0.70710678 -0.40824829  0.57735027]\n",
      " [-0.          0.81649658  0.57735027]]\n",
      "[[-1.41421356 -0.70710678 -0.70710678]\n",
      " [ 0.          1.22474487  0.40824829]\n",
      " [ 0.          0.          1.15470054]]\n",
      "[[1.00000000e+00 1.00000000e+00 4.02426802e-17]\n",
      " [1.00000000e+00 0.00000000e+00 1.00000000e+00]\n",
      " [0.00000000e+00 1.00000000e+00 1.00000000e+00]]\n",
      "[[ 1.00000000e+00  1.00000000e+00 -3.09999437e-16]\n",
      " [ 1.00000000e+00 -1.11022302e-16  1.00000000e+00]\n",
      " [ 0.00000000e+00  1.00000000e+00  1.00000000e+00]]\n"
     ]
    }
   ],
   "source": [
    "# testing CGS and MGS methods\n",
    "A = np.array([[1,1,0],[1,0,1],[0,1,1]])\n",
    "Q,R = gramschmidt(A,False)\n",
    "print(Q)\n",
    "print(R)\n",
    "Q_,R_ = np.linalg.qr(A)\n",
    "print(Q_)\n",
    "print(R_)\n",
    "#print(Q-Q_)\n",
    "#print(R-R_)\n",
    "AA = Q @ R\n",
    "AA_ = Q_ @ R_\n",
    "print(AA)\n",
    "print(AA_)"
   ]
  },
  {
   "cell_type": "markdown",
   "id": "54cc4037",
   "metadata": {},
   "source": [
    "### 3. [5 points. Householder QR implementation]"
   ]
  },
  {
   "cell_type": "code",
   "execution_count": 45,
   "id": "b60af027",
   "metadata": {},
   "outputs": [],
   "source": [
    "def houseqr(AA):\n",
    "    \"\"\"\n",
    "    Computes reduced QR factorization A = QR using Houseolder transformation\n",
    "    \"\"\"\n",
    "  \n",
    "    # create a new matrix\n",
    "    A = np.zeros(AA.shape)\n",
    "    \n",
    "    # A is m x n\n",
    "    m = A.shape[0]\n",
    "    n = A.shape[1]\n",
    "    \n",
    "    # populate A\n",
    "    for i in range(0,n):\n",
    "        A[:,i] = AA[:,i]\n",
    "    \n",
    "    # preallocation of arrays\n",
    "    U = np.zeros((m,n))\n",
    "    for k in range(0,n):\n",
    "\n",
    "        x = A[k:,k]\n",
    "        e1 = np.eye(1,len(x),0)\n",
    "        \n",
    "        v_k = np.sign(x[0])*np.linalg.norm(x)*e1 + x\n",
    "        v_k = v_k/np.linalg.norm(v_k,2)\n",
    "\n",
    "        U[0:m-k,k] = v_k\n",
    "\n",
    "        A[k:,k:] = A[k:,k:] - 2 * np.outer(v_k, (v_k @ A[k:,k:]))\n",
    "       \n",
    "        # calculate Q (check this)\n",
    "        if k == 0:\n",
    "            Q = np.identity(m) - 2*np.matmul(v_k.T,v_k)\n",
    "            # was pretty lazy with extracting Q1A, sorry!\n",
    "            print(\"H1Z = \")\n",
    "            print(Q @ AA)\n",
    "        else:\n",
    "            q = np.zeros((m,m))\n",
    "            q[:k,:k] = np.eye(k)\n",
    "            q[k:,k:] = np.eye(m-k) - 2*np.matmul(v_k.T,v_k)\n",
    "            Q = np.matmul(q,Q)\n",
    "            if k == 1:\n",
    "                print(\"H2H1Z = \")\n",
    "                print(Q @ AA)\n",
    "            elif k == 2:\n",
    "                print(\"H3H2H1Z = \")\n",
    "                print(Q @ AA)\n",
    "\n",
    "    # might need to reduce the size of R so it's nxn\n",
    "    R = A[0:n,:]\n",
    "    Q = Q.T\n",
    "    Q = Q[:,:n]\n",
    "\n",
    "    return Q, R, U\n",
    "\n",
    "# generates the Q1, Q1Q2, .... matrix multiplication required for 3\n",
    "# ^ this was abandoned for now; I can extract bottom part of code in function\n",
    "# above which should be able to do this (as U[:,k] = v_k)\n",
    "def genQ(U,n):\n",
    "    \n",
    "    m = U.shape[0]\n",
    "    #I = np.eye(m)\n",
    "    \n",
    "    \n",
    "    # is this the right size for Q??\n",
    "    Q_k = np.zeros((m,m))\n",
    "    \n",
    "    # I have no idea how this works tbh\n",
    "    for i in range(0,n):\n",
    "        I = np.eye(i)\n",
    "        # identity used in computation of F\n",
    "        I_f = np.eye(m-i)\n",
    "        F_i = I_f - 2*np.outer(U[:m-i,i].T,U[:m-i,i])/np.dot(U[:m-i,i],U[:m-i,i])\n",
    "        j = I.shape[0]\n",
    "        Q_k[0:j,0:j] = I\n",
    "        #print(F_i)\n",
    "        Q_k[i:m,i:m] = F_i # check if this works\n",
    "        if i == 0:\n",
    "            Qii = Q_k\n",
    "        else:\n",
    "            Qii = Q_k @ Qii\n",
    "            \n",
    "    return Qii"
   ]
  },
  {
   "cell_type": "markdown",
   "id": "78e75cba",
   "metadata": {},
   "source": [
    "#### 3 (cont) printing $H_1A, H_1H_2A, $ and $H_1H_2H_3A$ for the matrix $Z$ in exercise 10.3"
   ]
  },
  {
   "cell_type": "code",
   "execution_count": 46,
   "id": "523fc28a",
   "metadata": {},
   "outputs": [
    {
     "name": "stdout",
     "output_type": "stream",
     "text": [
      "H1Z = \n",
      "[[-9.89949494e+00 -9.49543392e+00 -9.69746443e+00]\n",
      " [-7.77156117e-16  7.81296662e-01  1.34016411e+00]\n",
      " [-1.55431223e-15  6.17269158e-01 -1.15471281e+00]\n",
      " [-7.77156117e-16 -2.21870334e+00 -1.65983589e+00]\n",
      " [-8.88178420e-16 -2.21870334e+00 -2.65983589e+00]]\n",
      "H2H1Z = \n",
      "[[-9.89949494e+00 -9.49543392e+00 -9.69746443e+00]\n",
      " [-1.33226763e-15 -3.29191961e+00 -3.01294337e+00]\n",
      " [-1.88737914e-15 -1.16573418e-15 -1.81439764e+00]\n",
      " [-4.44089210e-16  8.88178420e-16  7.11325729e-01]\n",
      " [-2.22044605e-16  1.33226763e-15 -2.88674271e-01]]\n",
      "H3H2H1Z = \n",
      "[[-9.89949494e+00 -9.49543392e+00 -9.69746443e+00]\n",
      " [-1.33226763e-15 -3.29191961e+00 -3.01294337e+00]\n",
      " [ 1.05471187e-15  8.32667268e-17  1.97011572e+00]\n",
      " [-1.77635684e-15  8.88178420e-16 -4.44089210e-16]\n",
      " [ 0.00000000e+00  1.77635684e-15  1.11022302e-15]]\n",
      "Q householder :\n",
      "[[-0.10101525 -0.31617307  0.5419969 ]\n",
      " [-0.40406102 -0.3533699   0.51618752]\n",
      " [-0.70710678 -0.39056673 -0.52479065]\n",
      " [-0.40406102  0.55795248  0.38714064]\n",
      " [-0.40406102  0.55795248 -0.12044376]]\n",
      "R householder :\n",
      "[[-9.89949494e+00 -9.49543392e+00 -9.69746443e+00]\n",
      " [-8.88178420e-16 -3.29191961e+00 -3.01294337e+00]\n",
      " [-2.66453526e-15 -2.22044605e-16  1.97011572e+00]]\n",
      "U householder:\n",
      "[[ 0.74196201  0.78655506 -0.9800408 ]\n",
      " [ 0.27229225  0.11919725  0.18420552]\n",
      " [ 0.47651145 -0.42844087 -0.07475533]\n",
      " [ 0.27229225 -0.42844087  0.        ]\n",
      " [ 0.27229225  0.          0.        ]]\n",
      "Q: numpy\n",
      "[[-0.10101525 -0.31617307  0.5419969 ]\n",
      " [-0.40406102 -0.3533699   0.51618752]\n",
      " [-0.70710678 -0.39056673 -0.52479065]\n",
      " [-0.40406102  0.55795248  0.38714064]\n",
      " [-0.40406102  0.55795248 -0.12044376]]\n",
      "R: numpy\n",
      "[[-9.89949494 -9.49543392 -9.69746443]\n",
      " [ 0.         -3.29191961 -3.01294337]\n",
      " [ 0.          0.          1.97011572]]\n"
     ]
    }
   ],
   "source": [
    "Z = np.array([[1,2,3],[4,5,6],[7,8,7],[4,2,3],[4,2,2]])\n",
    "#print(Z)\n",
    "#print(Z[1:,1])\n",
    "#print(Z[1:,2])\n",
    "Q,R,U = houseqr(Z)\n",
    "print(\"Q householder :\")\n",
    "print(Q)\n",
    "print(\"R householder :\")\n",
    "print(R)\n",
    "print(\"U householder:\")\n",
    "print(U)\n",
    "\n",
    "## not sure if this is working\n",
    "#Q1 = genQ(U,1)\n",
    "#Q2Q1 = genQ(U,2)\n",
    "#Q3Q2Q1 = genQ(U,3)\n",
    "\n",
    "#print(\"H1Z\")\n",
    "#print(Q1 @ Z)\n",
    "#print(\"H2H1Z\")\n",
    "#print(Q2Q1 @ Z)\n",
    "#print(\"H3H2H1Z\")\n",
    "#print(Q3Q2Q1 @ Z)\n",
    "\n",
    "Q,R = np.linalg.qr(Z)\n",
    "print(\"Q: numpy\")\n",
    "print(Q)\n",
    "print(\"R: numpy\")\n",
    "print(R)\n",
    "\n",
    "### these ^ might not be correct, need to check this out."
   ]
  },
  {
   "cell_type": "markdown",
   "id": "24833253",
   "metadata": {},
   "source": [
    "### 4. [20 points] - Code verification"
   ]
  },
  {
   "cell_type": "code",
   "execution_count": 7,
   "id": "4b922695",
   "metadata": {},
   "outputs": [
    {
     "name": "stdout",
     "output_type": "stream",
     "text": [
      "(100, 100)\n"
     ]
    }
   ],
   "source": [
    "import scipy.io\n",
    "A = scipy.io.loadmat('A.mat')['A']\n",
    "print(A.shape)\n",
    "#A = copy.deepcopy(A_).astype(float)\n",
    "B = scipy.io.loadmat('B.mat')['B']\n",
    "#B = copy.deepcopy(B_).astype(float)\n",
    "C = scipy.io.loadmat('C.mat')['C']\n",
    "#C = copy.deepcopy(C_).astype(float)"
   ]
  },
  {
   "cell_type": "code",
   "execution_count": 8,
   "id": "0e1cd775",
   "metadata": {},
   "outputs": [],
   "source": [
    "# checking method - check the norm of A - QR\n",
    "\n",
    "\n",
    "# alternative checking method - check orthogonality of Q\n",
    "# see p.67 in the textbook\n",
    "# define as oneline function,\n",
    "# norm(Q'*Q-eye(n)), Q m x n ??\n",
    "\n",
    "\n"
   ]
  },
  {
   "cell_type": "code",
   "execution_count": 9,
   "id": "bf67b1a6",
   "metadata": {},
   "outputs": [
    {
     "name": "stdout",
     "output_type": "stream",
     "text": [
      "(100, 100)\n",
      "Error in Classical Gram-Schmidt for A\n",
      "3.945177105134145e-16\n",
      "Error in Classical Gram-Schmidt for B\n",
      "3.3768201631754644e-16\n",
      "Error in Classical Gram-Schmidt for C\n",
      "3.502949441344594e-16\n",
      "Error in Modified Gram-Schmidt for A\n",
      "4.055362598676777e-16\n",
      "Error in Modified Gram-Schmidt for B\n",
      "3.519575017938561e-16\n",
      "Error in Modified Gram-Schmidt for C\n",
      "3.353057919021613e-16\n",
      "Error in Householder for A\n",
      "1.2939491140406807e-15\n",
      "Error in Householder for A\n",
      "9.878068503819684e-16\n",
      "Error in Householder for A\n",
      "5.800554951217109e-16\n",
      "Error in numpy QR for A\n",
      "8.935180900628216e-16\n",
      "Error in numpy QR for B\n",
      "6.296279141381338e-16\n",
      "Error in numpy QR for C\n",
      "6.8266704767781e-16\n"
     ]
    }
   ],
   "source": [
    "# reload and run code at same time to avoid errors\n",
    "A = scipy.io.loadmat('A.mat')['A']\n",
    "print(A.shape)\n",
    "#A = copy.deepcopy(A_).astype(float)\n",
    "B = scipy.io.loadmat('B.mat')['B']\n",
    "#B = copy.deepcopy(B_).astype(float)\n",
    "C = scipy.io.loadmat('C.mat')['C']\n",
    "# CGS\n",
    "# ran without error at least\n",
    "Q_cgsA,R_cgsA = gramschmidt(A,True)\n",
    "print(\"Error in Classical Gram-Schmidt for A\")\n",
    "print(np.linalg.norm(Q_cgsA @ R_cgsA - A))\n",
    "Q_cgsB,R_cgsB = gramschmidt(B,True)\n",
    "print(\"Error in Classical Gram-Schmidt for B\")\n",
    "print(np.linalg.norm(Q_cgsB @ R_cgsB - B))\n",
    "Q_cgsC,R_cgsC = gramschmidt(C,True)\n",
    "print(\"Error in Classical Gram-Schmidt for C\")\n",
    "print(np.linalg.norm(Q_cgsC @ R_cgsC - C))\n",
    "#test = Q_cgsC @ R_cgsC - C\n",
    "#test_ = np.linalg.norm(test)\n",
    "#print(test_)\n",
    "\n",
    "# MGS\n",
    "Q_mgsA,R_mgsA = gramschmidt(A,False)\n",
    "#print(Q_mgsA)\n",
    "print(\"Error in Modified Gram-Schmidt for A\")\n",
    "print(np.linalg.norm(Q_mgsA @ R_mgsA - A))\n",
    "Q_mgsB,R_mgsB= gramschmidt(B,False)\n",
    "print(\"Error in Modified Gram-Schmidt for B\")\n",
    "print(np.linalg.norm(Q_mgsB @ R_mgsB - B))\n",
    "Q_mgsC,R_mgsC = gramschmidt(C,False)\n",
    "print(\"Error in Modified Gram-Schmidt for C\")\n",
    "print(np.linalg.norm(Q_mgsC @ R_mgsC - C))\n",
    "\n",
    "# householder (this might be broken)\n",
    "Q_hA,R_hA,U_hA = houseqr(A)\n",
    "print(\"Error in Householder for A\")\n",
    "print(np.linalg.norm(Q_hA @ R_hA - A))\n",
    "\n",
    "Q_hB,R_hB,U_hB = houseqr(B)\n",
    "print(\"Error in Householder for A\")\n",
    "print(np.linalg.norm(Q_hB @ R_hB - B))\n",
    "Q_hC,R_hC,U_hC = houseqr(C)\n",
    "print(\"Error in Householder for A\")\n",
    "print(np.linalg.norm(Q_hC @ R_hC - C))\n",
    "\n",
    "# builtin scipy method\n",
    "Q_A_sp,R_A_sp = np.linalg.qr(A)\n",
    "print(\"Error in numpy QR for A\")\n",
    "print(np.linalg.norm(Q_A_sp @ R_A_sp - A))\n",
    "Q_B_sp,R_B_sp = np.linalg.qr(B)\n",
    "print(\"Error in numpy QR for B\")\n",
    "print(np.linalg.norm(Q_B_sp @ R_B_sp - B))\n",
    "Q_C_sp,R_C_sp = np.linalg.qr(C)\n",
    "print(\"Error in numpy QR for C\")\n",
    "print(np.linalg.norm(Q_C_sp @ R_C_sp - C))"
   ]
  },
  {
   "cell_type": "code",
   "execution_count": 10,
   "id": "61517bfe",
   "metadata": {},
   "outputs": [],
   "source": [
    "### don't really need anymore ###\n",
    "\n",
    "\n",
    "# function to check the error\n",
    "def method_err(QQ,RR,AA):\n",
    "    #QR = QQ @ RR\n",
    "    #diff = QR - AA\n",
    "    # not l2 at the moment; check what acceptable error is\n",
    "    err = np.linalg.norm(QQ @ RR - AA) # diff is a matrix\n",
    "    #print(err)\n",
    "    return err"
   ]
  },
  {
   "cell_type": "code",
   "execution_count": 11,
   "id": "79acaf16",
   "metadata": {},
   "outputs": [],
   "source": [
    "### fixed previous error ###\n",
    "# checking the accuracy of the results - the error function doesn't seem to work, very confused\n",
    "# A = QR, A ~ QR in each of these cases if the results work\n",
    "\n",
    "# CGS\n",
    "cgsA_err = method_err(Q_cgsA,R_cgsA,A)\n",
    "cgsB_err = method_err(Q_cgsB,R_cgsB,B)\n",
    "cgsC_err = method_err(Q_cgsC,R_cgsC,C)\n",
    "cgserr = [cgsA_err,cgsB_err,cgsC_err]\n",
    "# MGS\n",
    "mgsA_err = method_err(Q_mgsA,R_mgsA,A)\n",
    "mgsB_err = method_err(Q_mgsB,R_mgsB,B)\n",
    "mgsC_err = method_err(Q_mgsC,R_mgsC,C)\n",
    "mgserr = [mgsA_err,mgsB_err,mgsC_err]\n",
    "# householder\n",
    "houseA_err = method_err(Q_hA,R_hA,A)\n",
    "houseB_err = method_err(Q_hB,R_hB,B)\n",
    "houseC_err = method_err(Q_hC,R_hC,C)\n",
    "house_err = [houseA_err,houseB_err,houseC_err]\n",
    "# builtin scipy\n",
    "spA_err = method_err(Q_A_sp,R_A_sp,A)\n",
    "spB_err = method_err(Q_B_sp,R_B_sp,B)\n",
    "spC_err = method_err(Q_C_sp,R_C_sp,C)\n",
    "sp_err = [spA_err,spB_err,spC_err]"
   ]
  },
  {
   "cell_type": "code",
   "execution_count": 12,
   "id": "11b8b02f",
   "metadata": {},
   "outputs": [],
   "source": [
    "# the error function is not working.\n",
    "# householder is the worst; error is inf right now.\n",
    "#print(cgserr)\n",
    "#print(mgserr)\n",
    "#print(house_err)\n",
    "#print(sp_err)\n",
    "# need to check these ^^^ out a bit, implementation is definitely wrong. moving on to 5 for now."
   ]
  },
  {
   "cell_type": "markdown",
   "id": "0f869568",
   "metadata": {},
   "source": [
    "## 5. Least Squares stability"
   ]
  },
  {
   "cell_type": "code",
   "execution_count": 13,
   "id": "5a4da2cc",
   "metadata": {},
   "outputs": [],
   "source": [
    "import scipy.io\n",
    "q5 = scipy.io.loadmat('q5.mat')\n",
    "A = q5['A']\n",
    "b = q5['b']"
   ]
  },
  {
   "cell_type": "markdown",
   "id": "3d9e077f",
   "metadata": {},
   "source": [
    "### 5.1 numerically compute bounds for $\\frac{||\\delta x||}{||x||}$ given pertubations $\\delta A$ and $\\delta b$"
   ]
  },
  {
   "cell_type": "code",
   "execution_count": 14,
   "id": "ee76463f",
   "metadata": {},
   "outputs": [],
   "source": [
    "# computing maximal bounds, I believe\n",
    "# defining some useful functions\n",
    "def cond2(A):\n",
    "    u,s,vh = np.linalg.svd(A)\n",
    "    s_max = np.max(s)\n",
    "    s_min = np.min(s)\n",
    "    return s_max/s_min\n",
    "\n",
    "def eta_eval(A,x):\n",
    "    return np.linalg.norm(A,2) * np.linalg.norm(x,2) / np.linalg.norm(A @ x,2)"
   ]
  },
  {
   "cell_type": "code",
   "execution_count": 15,
   "id": "3aa30d3f",
   "metadata": {},
   "outputs": [],
   "source": [
    "# confused by definition of cos(theta), gonna use norm\n",
    "def cos_theta(A,x,b):\n",
    "    return np.linalg.norm(A @ x,2)/np.linalg.norm(b,2)\n",
    "def tan_theta(A,x,b):\n",
    "    return np.linalg.norm(b - A@x,2)/np.linalg.norm(A@x,2)"
   ]
  },
  {
   "cell_type": "code",
   "execution_count": 16,
   "id": "1b95a4f3",
   "metadata": {},
   "outputs": [],
   "source": [
    "# bound with pertubation in A\n",
    "def pert_A(A,b):\n",
    "    # solve for x (this is bad)\n",
    "    x = np.linalg.pinv(A) @ b\n",
    "    \n",
    "    cond_num = cond2(A)\n",
    "    eta = eta_eval(A,x)\n",
    "    tan = tan_theta(A,x,b)\n",
    "    \n",
    "    # perturb the matrix A...\n",
    "    #delta_A = A # unperturbed for now\n",
    "    #norm_DeltA = np.linalg.norm(delta_A,2)\n",
    "    #normA = np.linalg.norm(A,2)\n",
    "    \n",
    "    stability = cond_num * (cond_num*tan/eta + 1)\n",
    "    \n",
    "    return stability\n",
    "    \n",
    "# bound with pertubation in b\n",
    "def pert_b(A,b):\n",
    "    x = np.linalg.pinv(A) @ b # might want to improve this\n",
    "    cond_num = cond2(A)\n",
    "    eta = eta_eval(A,x)\n",
    "    cos = cos_theta(A,x,b)\n",
    "    stability = cond2(A)/(eta * cos)\n",
    "    return stability"
   ]
  },
  {
   "cell_type": "code",
   "execution_count": 17,
   "id": "fa95800b",
   "metadata": {},
   "outputs": [
    {
     "name": "stdout",
     "output_type": "stream",
     "text": [
      "1395744488.6685567\n",
      "21.57310328119116\n"
     ]
    }
   ],
   "source": [
    "# generate coefficients:\n",
    "A_coeff = pert_A(A,b)\n",
    "b_coeff = pert_b(A,b)\n",
    "print(A_coeff)\n",
    "print(b_coeff)"
   ]
  },
  {
   "cell_type": "markdown",
   "id": "11b2858e",
   "metadata": {},
   "source": [
    "### 5.1 (ans): numerical bounds \n",
    "$\\delta A$ : $\\frac{||\\delta x||}{||x||}$ $\\leq$ 1395744488.67 $\\frac{||\\delta A||}{||A||}$\n",
    "$\\\\$\n",
    "numerical bounds for $\\delta b$ : $\\frac{||\\delta x||}{||x||}$ $\\leq$  21.57$\\frac{||\\delta b||}{||b||}$"
   ]
  },
  {
   "cell_type": "code",
   "execution_count": null,
   "id": "d98cd932",
   "metadata": {},
   "outputs": [],
   "source": []
  },
  {
   "cell_type": "code",
   "execution_count": 18,
   "id": "9f3b1679",
   "metadata": {},
   "outputs": [
    {
     "name": "stdout",
     "output_type": "stream",
     "text": [
      "38810.15523293884\n",
      "0.008434449566253875\n"
     ]
    }
   ],
   "source": [
    "# pertubations in A\n",
    "pertA = 1e-9\n",
    "U,S,Vh = np.linalg.svd(A)\n",
    "# using knowledge of SVD, we can apply the pertubation in A to the least singular value in S\n",
    "# to maximize the effect of the pertubation in A (this was shown in class)\n",
    "\n",
    "# know the number of singular values\n",
    "S_perturbed = S\n",
    "S_perturbed[49] += pertA\n",
    "S_p_mat = np.diag(S_perturbed)\n",
    "\n",
    "A_perturbed = U[:,0:50] @ S_p_mat @ Vh\n",
    "A_pert_b = np.linalg.pinv(A_perturbed) @ b\n",
    "A_diff = A_pert_b - np.linalg.pinv(A) @ b\n",
    "# the resultant pertubation in x:\n",
    "#pert_x = np.linalg.norm(A_pert_b)\n",
    "pert_x = np.linalg.norm(A_diff)\n",
    "\n",
    "\n",
    "### below is basically the solution\n",
    "\n",
    "# this is the absolute pertubation in x\n",
    "print(pert_x)\n",
    "# scaled perturbation in x\n",
    "print(pert_x/np.linalg.norm(np.linalg.pinv(A)@b))"
   ]
  },
  {
   "cell_type": "code",
   "execution_count": 19,
   "id": "3d33e22a",
   "metadata": {},
   "outputs": [
    {
     "name": "stdout",
     "output_type": "stream",
     "text": [
      "9.875228822031499e-11\n",
      "0.008534595208841436\n",
      "9.875228822031499e-11\n",
      "0.008534595208841436\n",
      "1.8547880683628514e-09\n"
     ]
    }
   ],
   "source": [
    "# pertubations in B\n",
    "pert_b = 1e-9\n",
    "\n",
    "# take norm of the perturbed SVD to find the pertubation in b\n",
    "# need to iterate over columns\n",
    "\n",
    "U,S,Vh = np.linalg.svd(A)\n",
    "U50 = U[:,0:49] # don't need last 50 rows\n",
    "\n",
    "\n",
    "# perturb each column that has a singular value and check max\n",
    "err_array = np.zeros(len(S))\n",
    "pinvA = np.linalg.pinv(A)\n",
    "\n",
    "# ||x|| = ||psuedoinv(A) * u_i *delta_b ||, check each column\n",
    "for i in range(0,len(S)):\n",
    "    # perturbing entire column with b, check this\n",
    "    x_perturbed = pinvA @ (U[:,i]*pert_b)\n",
    "    err_array[i] = np.linalg.norm(x_perturbed,2)\n",
    "    \n",
    "# clearly, min and max perturbations occur when applying wrt\n",
    "# max and min singular value; this makes sense.\n",
    "print(err_array.min())\n",
    "print(err_array.max())\n",
    "print(err_array[0])\n",
    "print(err_array[49])\n",
    "print(err_array[49]/np.linalg.norm(np.linalg.pinv(A)@b))"
   ]
  },
  {
   "cell_type": "markdown",
   "id": "f3acf2b8",
   "metadata": {},
   "source": [
    "### 5.2 (ans)\n",
    "$\\delta A$: $\\\\$\n",
    "The pertubation $\\delta A$ that maximizes $\\frac{||\\delta x||}{||x||}$ occurs when $\\delta A$ is applied to the least singular value, $\\sigma_{min}$, of $A$: $||\\delta x||$ = 38810.1 and $\\frac{||\\delta x||}{||x||}$ = 0.0084.\n",
    "\n",
    "$\\delta b$:\n",
    "\n",
    "\n",
    "The pertubation $\\delta b$ that maximizes $\\frac{||\\delta x||}{||x||}$ occurs when $\\delta b$ is applied to the last column of left singular vectors $U$, of $A$: $||\\delta x||$ = 0.0085 and $\\frac{||\\delta x||}{||x||}$ = 1.85e-09"
   ]
  },
  {
   "cell_type": "markdown",
   "id": "6c0157a6",
   "metadata": {},
   "source": [
    "### 6. Near rank-deficieet least squares problems"
   ]
  },
  {
   "cell_type": "code",
   "execution_count": 20,
   "id": "81c94298",
   "metadata": {},
   "outputs": [],
   "source": [
    "# read data (all of them, this is ugly)\n",
    "\n",
    "## 0\n",
    "cid = 0\n",
    "case =np.load(f'case{cid}.npz')\n",
    "A0 = case['A']\n",
    "x0 = case['x']\n",
    "b0 = case['b']\n",
    "noise0 = case['noise']\n",
    "\n",
    "## 1\n",
    "cid = 1\n",
    "case =np.load(f'case{cid}.npz')\n",
    "A1 = case['A']\n",
    "x1 = case['x']\n",
    "b1 = case['b']\n",
    "noise1 = case['noise']\n",
    "\n",
    "## 2\n",
    "cid = 2\n",
    "case =np.load(f'case{cid}.npz')\n",
    "A2 = case['A']\n",
    "x2 = case['x']\n",
    "b2 = case['b']\n",
    "noise2 = case['noise']\n",
    "\n",
    "## 3\n",
    "cid = 3\n",
    "case =np.load(f'case{cid}.npz')\n",
    "A3 = case['A']\n",
    "x3 = case['x']\n",
    "b3 = case['b']\n",
    "noise3 = case['noise']\n",
    "\n",
    "## 4\n",
    "cid = 4\n",
    "case =np.load(f'case{cid}.npz')\n",
    "A4 = case['A']\n",
    "x4 = case['x']\n",
    "b4 = case['b']\n",
    "noise4 = case['noise']\n",
    "\n",
    "### assemble into arrays to plot\n",
    "A = [A0,A1,A2,A3,A4]\n",
    "x = [x0,x1,x2,x3,x4]\n",
    "b = [b0,b1,b2,b3,b4]"
   ]
  },
  {
   "cell_type": "markdown",
   "id": "c9c335ce",
   "metadata": {},
   "source": [
    "### 6.1 Plot A's singular values"
   ]
  },
  {
   "cell_type": "markdown",
   "id": "585d0a4a",
   "metadata": {},
   "source": []
  },
  {
   "cell_type": "code",
   "execution_count": 21,
   "id": "000f9fd1",
   "metadata": {},
   "outputs": [],
   "source": [
    "# import plotting functions\n",
    "import matplotlib.pyplot as plt\n"
   ]
  },
  {
   "cell_type": "code",
   "execution_count": 22,
   "id": "2ce8e90c",
   "metadata": {},
   "outputs": [
    {
     "name": "stdout",
     "output_type": "stream",
     "text": [
      "Case: 0 least and greatest singular values\n",
      "3.814697265625344e-06\n",
      "0.9999999999999992\n",
      "Case: 1 least and greatest singular values\n",
      "1.4551908958393291e-11\n",
      "0.9999999999999996\n",
      "Case: 2 least and greatest singular values\n",
      "6.704774983450196e-17\n",
      "0.9999999999999996\n",
      "Case: 3 least and greatest singular values\n",
      "1.460892679186507e-11\n",
      "0.9999999999999997\n",
      "Case: 4 least and greatest singular values\n",
      "1.2232026749177085e-18\n",
      "30.72347855960432\n"
     ]
    }
   ],
   "source": [
    "## compute and store singular values\n",
    "S = []\n",
    "for i in range(0,len(A)):\n",
    "    Ui,Si,Vhi = np.linalg.svd(A[i])\n",
    "    S.append(Si)\n",
    "    print(\"Case: \" + str(i) + \" least and greatest singular values\")\n",
    "    print(Si.min())\n",
    "    print(Si.max())\n",
    "#U,S,Vh = np.linalg.svd(A)\n",
    "x_vals = np.arange(0,len(S[-1]))"
   ]
  },
  {
   "cell_type": "code",
   "execution_count": 23,
   "id": "9a3890e5",
   "metadata": {},
   "outputs": [
    {
     "data": {
      "image/png": "[encoded data removed]",
      "text/plain": [
       "<Figure size 432x288 with 1 Axes>"
      ]
     },
     "metadata": {
      "needs_background": "light"
     },
     "output_type": "display_data"
    }
   ],
   "source": [
    "for i in range(0,len(S)):\n",
    "    x_vals = np.arange(0,len(S[i]))\n",
    "    plt.plot(x_vals,S[i])\n",
    "    plt.yscale('log', base=2)\n",
    "    plt.title(\"6a : semilog plot all cases\" + str(i))\n",
    "    plt.ylabel(\"singular values\")\n",
    "    plt.xlabel(\"singular value index\")\n",
    "    plt.legend([\"case0\",\"case1\",\"case2\",\"case3\",\"case4\"])"
   ]
  },
  {
   "cell_type": "markdown",
   "id": "f25dcbd5",
   "metadata": {},
   "source": [
    "### 6.2 : rank defficiency?\n",
    "0. The system is not rank defficient because no singular values are zero. It is also not nearly rank defficient if we consider the definition $\\tau = \\epsilon_M \\sigma_1$ given in lecture. The minimum singular value is 3.8e-6, which is not less than $\\epsilon_M$ in python (which is approximately 1e-16).\n",
    "1. Not rank defficient, minimum singular value greater than machine epsilon, also not nearly rank defficient. Curve of singular values is smooth\n",
    "2. This case IS rank deficcient as there are many singular values less than machine epsilon; this indicates a lot of them are zero.\n",
    "3. This case is neither rank defficient nor nearly rank defficient based on the definitions mentioned in lecture regarding the size of the singular values being greater than machine epsilon and the definition $\\tau = \\epsilon_M \\sigma_1$. There is a large jump in the singular values however, which I do not know how to interpret, this may indicate rank defficiency but I am not quite sure.\n",
    "4. This case is nearly rank defficient because it has a singular value that is less that machine epsilon\n"
   ]
  },
  {
   "cell_type": "markdown",
   "id": "c246aa8b",
   "metadata": {},
   "source": [
    "### 6.3 - best rank-k approximation of the range of A"
   ]
  },
  {
   "cell_type": "markdown",
   "id": "9eb95b3f",
   "metadata": {},
   "source": [
    "### 6.3 - SVD"
   ]
  },
  {
   "cell_type": "code",
   "execution_count": 24,
   "id": "0fe03963",
   "metadata": {},
   "outputs": [],
   "source": [
    "# k/2\n",
    "svd_k2 = np.zeros(len(A))\n",
    "for i in range(len(A)):\n",
    "    # compute svd for entire matrix\n",
    "    U,S,Vh = np.linalg.svd(A[i])\n",
    "    \n",
    "    # determine k and find low-rank approx of A\n",
    "    k = int(len(S)/2) # k = n/2\n",
    "    Uk = U[:,0:k]\n",
    "    Sk = np.diag(S[0:k])\n",
    "    Vh = Vh[0:k,:]\n",
    "    Ak = Uk @ Sk @ Vh\n",
    "    \n",
    "    # save L2 norm \n",
    "    svd_k2[i] = np.linalg.norm(A[i]-Ak,2)\n",
    "#print(svd_k2)"
   ]
  },
  {
   "cell_type": "code",
   "execution_count": 25,
   "id": "6d0e3169",
   "metadata": {},
   "outputs": [],
   "source": [
    "# k/16\n",
    "# could have used a function; got lazy\n",
    "svd_k16 = np.zeros(len(A))\n",
    "for i in range(len(A)):\n",
    "    # compute svd for entire matrix\n",
    "    U,S,Vh = np.linalg.svd(A[i])\n",
    "    \n",
    "    # determine k and find low-rank approx of A\n",
    "    k = int(len(S)/16) # k = n/2\n",
    "    Uk = U[:,0:k]\n",
    "    Sk = np.diag(S[0:k])\n",
    "    Vh = Vh[0:k,:]\n",
    "    Ak = Uk @ Sk @ Vh\n",
    "    \n",
    "    # save L2 norm \n",
    "    svd_k16[i] = np.linalg.norm(A[i]-Ak,2)\n",
    "#print(svd_k16)"
   ]
  },
  {
   "cell_type": "markdown",
   "id": "4aef4847",
   "metadata": {},
   "source": [
    "## 6.3 - QR with pivoting"
   ]
  },
  {
   "cell_type": "code",
   "execution_count": 26,
   "id": "853c25af",
   "metadata": {},
   "outputs": [],
   "source": [
    "import scipy.linalg as splinalg\n",
    "# function to compute this (easier this way)\n",
    "def qr_k_pivoting(A,k):\n",
    "    Q,R,P = splinalg.qr(A,pivoting=True)\n",
    "    Qk = Q[:,0:k]\n",
    "    Rk = R[0:k,:]\n",
    "    Ak = Qk @ Rk\n",
    "    # reshuffle in order to properly compute norm\n",
    "    AA = np.zeros(A.shape)\n",
    "    for i in range(0,len(P)):\n",
    "        AA[:,i] = A[:,P[i]]\n",
    "\n",
    "    l2err = np.linalg.norm(AA-Ak,2)\n",
    "    return l2err"
   ]
  },
  {
   "cell_type": "code",
   "execution_count": 27,
   "id": "ee719cb3",
   "metadata": {},
   "outputs": [],
   "source": [
    "# k/2\n",
    "qr_pivot_k2 = np.zeros(len(A))\n",
    "for i in range(0,len(A)):\n",
    "    k = int(A[i].shape[1]/2)\n",
    "    qr_pivot_k2[i] = qr_k_pivoting(A[i],k)\n",
    "#print(qr_pivot_k2)"
   ]
  },
  {
   "cell_type": "code",
   "execution_count": 28,
   "id": "a1b118a4",
   "metadata": {},
   "outputs": [],
   "source": [
    "# k/16\n",
    "qr_pivot_k16 = np.zeros(len(A))\n",
    "for i in range(0,len(A)):\n",
    "    k = int(A[i].shape[1]/16)\n",
    "    qr_pivot_k16[i] = qr_k_pivoting(A[i],k)\n",
    "#print(qr_pivot_k16)"
   ]
  },
  {
   "cell_type": "markdown",
   "id": "7eb7e189",
   "metadata": {},
   "source": [
    "### 6.3 - QR without pivoting"
   ]
  },
  {
   "cell_type": "code",
   "execution_count": 29,
   "id": "27bbacb3",
   "metadata": {},
   "outputs": [],
   "source": [
    "# function to compute this (easier this way)\n",
    "def qr_k(A,k):\n",
    "    Q,R = np.linalg.qr(A)\n",
    "    Qk = Q[:,0:k]\n",
    "    Rk = R[0:k,:]\n",
    "    Ak = Qk @ Rk\n",
    "    l2err = np.linalg.norm(A-Ak,2)\n",
    "    return l2err"
   ]
  },
  {
   "cell_type": "code",
   "execution_count": 30,
   "id": "964affb4",
   "metadata": {},
   "outputs": [],
   "source": [
    "# k/2\n",
    "qr_k2 = np.zeros(len(A))\n",
    "for i in range(0,len(A)):\n",
    "    k = int(A[i].shape[1]/2)\n",
    "    qr_k2[i] = qr_k(A[i],k)\n",
    "#print(qr_k2)"
   ]
  },
  {
   "cell_type": "code",
   "execution_count": 31,
   "id": "3b75a957",
   "metadata": {},
   "outputs": [],
   "source": [
    "# k/16\n",
    "qr_k16 = np.zeros(len(A))\n",
    "for i in range(0,len(A)):\n",
    "    k = int(A[i].shape[1]/16)\n",
    "    qr_k16[i] = qr_k(A[i],k)\n",
    "#print(qr_k16)"
   ]
  },
  {
   "cell_type": "code",
   "execution_count": 32,
   "id": "34d356aa",
   "metadata": {},
   "outputs": [
    {
     "name": "stdout",
     "output_type": "stream",
     "text": [
      "L2 Errors for k = n/2:\n",
      "                 Case 0        Case 1        Case 2        Case 3    Case 4\n",
      "SVD            0.000015  2.292279e-10  1.111334e-15  5.820766e-11  0.006634\n",
      "QR - Pivoting  0.000043  2.296737e-16  3.041419e-16  1.633156e-10  0.140463\n",
      "QR             0.000051  3.500709e-16  3.405828e-16  2.023665e-10  0.121305\n",
      "\n",
      "L2 Errors for k = n/16:\n",
      "                 Case 0        Case 1        Case 2    Case 3     Case 4\n",
      "SVD            0.000918  8.432265e-07  8.432265e-07  0.000918   0.599328\n",
      "QR - Pivoting  0.001733  1.416543e-07  1.744136e-06  0.001669  17.922648\n",
      "QR             0.002908  2.553733e-07  3.174699e-06  0.002826  15.592133\n"
     ]
    }
   ],
   "source": [
    "# generate a table of all results, wrap with pandas\n",
    "import pandas as pd\n",
    "# k/2\n",
    "k2_data = np.array([svd_k2,qr_pivot_k2,qr_k2])\n",
    "k16_data = np.array([svd_k16,qr_pivot_k16,qr_k16])\n",
    "col = [\"Case 0\",\"Case 1\",\"Case 2\",\"Case 3\",\"Case 4\"]\n",
    "row = [\"SVD\",\"QR - Pivoting\", \"QR\"]\n",
    "k2frame = pd.DataFrame(k2_data,columns=col,index=row)\n",
    "k16frame = pd.DataFrame(k16_data,columns=col,index=row)\n",
    "print(\"L2 Errors for k = n/2:\")\n",
    "print(k2frame)\n",
    "print(\"\\nL2 Errors for k = n/16:\")\n",
    "print(k16frame)"
   ]
  },
  {
   "cell_type": "markdown",
   "id": "e208d31f",
   "metadata": {},
   "source": [
    "### 6.3 - results\n",
    "Using SVD is the superior method for computing low-rank approximations of a matrix $A$ in the general case. This is because SVD factorizes $A$ in a way that orders its singular values, so we know exactly which columns and rows of left and right singular vector matrices $U$ and $Vh$ to use to for the low-rank (rank-k) approximation of $A$ - the first k! This is advantageous for smaller values of k as seen in the table above; it provides the best approximation of A in every case except case 1. QR methods provided good results when the singular values of A are relatively small and there is either no observed rank deficiency or $k > rank(A)$, which is not always ideal, hence SVD is superior."
   ]
  },
  {
   "cell_type": "markdown",
   "id": "11f93381",
   "metadata": {},
   "source": [
    "### 6.4 - discrepancy principle and cross-validation methods"
   ]
  },
  {
   "cell_type": "code",
   "execution_count": 33,
   "id": "29e27838",
   "metadata": {},
   "outputs": [],
   "source": [
    "# select best beta for regularized SVD method\n",
    "# compare these three solutions with the solution that minimizes the actual error x - x_k\n",
    "noise = [noise0,noise1,noise2,noise3,noise4]"
   ]
  },
  {
   "cell_type": "code",
   "execution_count": 34,
   "id": "53f77691",
   "metadata": {},
   "outputs": [],
   "source": [
    "# discrepancy principle - do for all cases\n",
    "# SVD is known, can compute x_b and therefore compute beta\n",
    "\n",
    "# need to use scipy minimize to find beta that minimizes\n",
    "# the residual\n",
    "def discrepancy(beta,A,U,S,S2,V,b,I,tol):\n",
    "    # S is diagonal\n",
    "    b_ = U.T @ b\n",
    "    # S2 = S@S, compute once for efficiency.\n",
    "    x_b = np.linalg.inv(beta*I + S2) @ S @ b_\n",
    "    xb = V.T @ x_b\n",
    "    # minimize wrt given solution x\n",
    "\n",
    "    r = np.linalg.norm(A @ xb - b) - tol\n",
    "    # ^ break when ||r|| = tau*np.linalg.norm(b)\n",
    "    return r\n",
    "\n",
    "#def discrepancy_objective()"
   ]
  },
  {
   "cell_type": "code",
   "execution_count": 35,
   "id": "6cc7e17d",
   "metadata": {},
   "outputs": [],
   "source": [
    "import scipy.optimize as opt"
   ]
  },
  {
   "cell_type": "code",
   "execution_count": 36,
   "id": "ba5eb2ac",
   "metadata": {},
   "outputs": [],
   "source": [
    "beta_discrepancy = np.zeros(len(A))\n",
    "for i in range(0,len(A)):\n",
    "    beta_guess = 1\n",
    "    A_i = A[i]\n",
    "    Ui_,Si,Vhi = np.linalg.svd(A_i)\n",
    "    # extract the useable singular vectors\n",
    "    if A_i.shape[0] > A_i.shape[1]:\n",
    "        Ui = Ui_[:,0:len(Si)]\n",
    "    elif A_i.shape[0] < A_i.shape[1]:\n",
    "        Ui = Ui_[0:len(Si),0:len(Si)]\n",
    "        Vhi = Vhi[0:len(Si),:]\n",
    "    else:\n",
    "        Ui = Ui_\n",
    "    S = np.diag(Si)\n",
    "    S2 = S@S\n",
    "    bi = b[i]\n",
    "    \n",
    "    #print(bi.shape)\n",
    "    \n",
    "    noise_i = noise[i]\n",
    "    tol_i = noise_i*np.linalg.norm(bi,2)\n",
    "    #print(tol_i)\n",
    "    I = np.eye(len(Si))\n",
    "    args_ = (A_i,Ui,S,S2,Vhi,bi,I,tol_i)\n",
    "    \n",
    "    output = opt.minimize(discrepancy,x0=1,args=args_)\n",
    "    beta_discrepancy[i] = output[\"x\"]\n",
    "    #print(output)"
   ]
  },
  {
   "cell_type": "code",
   "execution_count": 48,
   "id": "9d13310e",
   "metadata": {},
   "outputs": [
    {
     "name": "stdout",
     "output_type": "stream",
     "text": [
      "beta values for each case in discrepancy method\n",
      "[-1.33825668e-02  1.00000000e+00 -2.69474140e-02 -8.33514022e-05\n",
      "  1.00000000e+00]\n"
     ]
    }
   ],
   "source": [
    "print(\"beta values for each case in discrepancy method\")\n",
    "print(beta_discrepancy)"
   ]
  },
  {
   "cell_type": "code",
   "execution_count": 38,
   "id": "c23c56e0",
   "metadata": {},
   "outputs": [],
   "source": [
    "# cross-validation principle\n",
    "def cross_validation(beta,A,b,I1,I2):\n",
    "    \n",
    "    m = A.shape[0]\n",
    "    # need to compute Apinv_b at each step\n",
    "    Apinv_b = np.linalg.inv(A.T @ A + beta*I1) @ A.T\n",
    "    \n",
    "    # expression for error for cross-validation principle\n",
    "    err_num = m*np.linalg.norm((I2 - A@Apinv_b)@b) ** 2\n",
    "    err_denom = np.trace(I2 - A@Apinv_b) ** 2\n",
    "    \n",
    "    return err_num/err_denom"
   ]
  },
  {
   "cell_type": "code",
   "execution_count": 39,
   "id": "b9c4c354",
   "metadata": {},
   "outputs": [
    {
     "name": "stdout",
     "output_type": "stream",
     "text": [
      "      fun: 0.01620562497672317\n",
      " hess_inv: array([[397.97504083]])\n",
      "      jac: array([5.63031062e-06])\n",
      "  message: 'Optimization terminated successfully.'\n",
      "     nfev: 32\n",
      "      nit: 3\n",
      "     njev: 16\n",
      "   status: 0\n",
      "  success: True\n",
      "        x: array([0.10453928])\n",
      "      fun: 1.8593723839614557e-06\n",
      " hess_inv: array([[5813.55651698]])\n",
      "      jac: array([7.72351896e-07])\n",
      "  message: 'Optimization terminated successfully.'\n",
      "     nfev: 30\n",
      "      nit: 2\n",
      "     njev: 15\n",
      "   status: 0\n",
      "  success: True\n",
      "        x: array([-0.00121578])\n",
      "      fun: 0.013695368306011042\n",
      " hess_inv: array([[1217.32135022]])\n",
      "      jac: array([1.2468081e-07])\n",
      "  message: 'Optimization terminated successfully.'\n",
      "     nfev: 24\n",
      "      nit: 2\n",
      "     njev: 12\n",
      "   status: 0\n",
      "  success: True\n",
      "        x: array([0.01769483])\n",
      "      fun: 0.1412301428256046\n",
      " hess_inv: array([[259.66459223]])\n",
      "      jac: array([3.53902578e-07])\n",
      "  message: 'Optimization terminated successfully.'\n",
      "     nfev: 34\n",
      "      nit: 5\n",
      "     njev: 17\n",
      "   status: 0\n",
      "  success: True\n",
      "        x: array([0.21419935])\n",
      "      fun: 0.030240848170093156\n",
      " hess_inv: array([[1]])\n",
      "      jac: array([0.01568067])\n",
      "  message: 'Desired error not necessarily achieved due to precision loss.'\n",
      "     nfev: 159\n",
      "      nit: 0\n",
      "     njev: 78\n",
      "   status: 2\n",
      "  success: False\n",
      "        x: array([1.])\n"
     ]
    }
   ],
   "source": [
    "beta_crossvalidate = np.zeros(len(A))\n",
    "for i in range(0,len(A)):\n",
    "    beta_guess = 1\n",
    "    A_i = A[i]\n",
    "    b_i = b[i]\n",
    "\n",
    "    # could use SVD if desired\n",
    "\n",
    "    I1 = np.eye(A_i.shape[1])\n",
    "    I2 = np.eye(A_i.shape[0])\n",
    "    args_ = (A_i,b_i,I1,I2)\n",
    "    \n",
    "    output = opt.minimize(cross_validation,x0=1,args=args_)\n",
    "    beta_crossvalidate[i] = output[\"x\"]\n",
    "    #print(output)"
   ]
  },
  {
   "cell_type": "code",
   "execution_count": 47,
   "id": "08d142e7",
   "metadata": {},
   "outputs": [
    {
     "name": "stdout",
     "output_type": "stream",
     "text": [
      "Beta values for each case for cross-validation method\n",
      "[ 0.10453928 -0.00121578  0.01769483  0.21419935  1.        ]\n"
     ]
    }
   ],
   "source": [
    "print(\"Beta values for each case for cross-validation method\")\n",
    "print(beta_crossvalidate)"
   ]
  },
  {
   "cell_type": "markdown",
   "id": "dfb6d0a3",
   "metadata": {},
   "source": [
    "### note: the above minimizations did not always converge; was unsure how to fix all of them."
   ]
  },
  {
   "cell_type": "code",
   "execution_count": 41,
   "id": "1c8a6450",
   "metadata": {},
   "outputs": [],
   "source": [
    "# generate x_hat_i for each method to check what best beta is.\n",
    "# compate to a solution that actually minimizes || x - x_hat ||"
   ]
  },
  {
   "cell_type": "code",
   "execution_count": 42,
   "id": "52f7f949",
   "metadata": {},
   "outputs": [],
   "source": [
    "# computes x_ given beta\n",
    "def compute_xi(A,b,beta):\n",
    "    U,sigma,Vh = np.linalg.svd(A)\n",
    "    \n",
    "    # truncate U when needed.\n",
    "    if A_i.shape[0] > A_i.shape[1]:\n",
    "        U = U[:,0:len(Si)]\n",
    "    #elif A_i.shape[0] < A_i.shape[1]:\n",
    "    #    U = U[0:len(Si),0:len(Si)]\n",
    "\n",
    "    dim = np.minimum(A.shape[0],A.shape[1])\n",
    "    \n",
    "    x_hat_i = np.zeros(dim)\n",
    "    b_ = U.T @ b\n",
    "    for i in range(0,dim):\n",
    "        s = sigma[i]\n",
    "        s2 = s**2\n",
    "        x_hat_i[i] = (s2/(s2+beta))*(b_[i]/s)\n",
    "        \n",
    "    return x_hat_i"
   ]
  },
  {
   "cell_type": "code",
   "execution_count": 43,
   "id": "3ae98e5a",
   "metadata": {},
   "outputs": [],
   "source": [
    "x_err_discrepancy = np.zeros(len(A))\n",
    "x_err_crossvalidate = np.zeros(len(A))\n",
    "\n",
    "for i in range(len(A)):\n",
    "    Ai = A[i]\n",
    "    bi = b[i]\n",
    "    x_i = x[i]\n",
    "    #print(Ai.shape)\n",
    "    #print(x_i.shape)\n",
    "    # can't look at || x - x_i || because of shape diff...\n",
    "    #print(x_i.shape)\n",
    "    \n",
    "    # need this to compute x_hat\n",
    "    Ui_,Si,Vhi = np.linalg.svd(Ai)\n",
    "\n",
    "    # extract the useable singular vectors\n",
    "    if Ai.shape[0] > Ai.shape[1]:\n",
    "        Ui = Ui_[:,0:len(Si)]\n",
    "    elif Ai.shape[0] < Ai.shape[1]:\n",
    "        Ui = Ui_[0:len(Si),0:len(Si)]\n",
    "        Vhi = Vhi[0:len(Si),:]\n",
    "        \n",
    "    x_hat = Vhi @ x_i\n",
    "    \n",
    "    x_hat_cross = compute_xi(Ai,bi,beta_crossvalidate[i])\n",
    "    #print(x_hat_cross.shape)\n",
    "    x_err_crossvalidate[i] = np.linalg.norm(x_hat_cross-x_hat,2)\n",
    "    \n",
    "    x_hat_disc = compute_xi(Ai,bi,beta_discrepancy[i])\n",
    "    #print(x_hat_disc.shape)\n",
    "    x_err_discrepancy[i] = np.linalg.norm(x_hat_disc-x_hat,2)"
   ]
  },
  {
   "cell_type": "code",
   "execution_count": 44,
   "id": "b2af252b",
   "metadata": {},
   "outputs": [
    {
     "name": "stdout",
     "output_type": "stream",
     "text": [
      "[ 0.22558658 23.32084021 22.97841954 23.30245191 30.97124646]\n",
      "[ 0.24154472 23.34507735 22.93373844 22.76664767 30.97124646]\n",
      "These ^ are supposed to be the L2 norm:\n",
      "||x - x_k||\n",
      "but they are not behaving as expected.\n"
     ]
    }
   ],
   "source": [
    "print(x_err_discrepancy)\n",
    "print(x_err_crossvalidate)\n",
    "print(\"These ^ are supposed to be the L2 norm:\")\n",
    "print(\"||x - x_k||\")\n",
    "print(\"but they are not behaving as expected.\")"
   ]
  },
  {
   "cell_type": "markdown",
   "id": "8ae11117",
   "metadata": {},
   "source": [
    "### 6.4 justification and comparison to actual solution that minimizes error:\n",
    "There is some bug/slight misunderstanding in my code so I don't think the correct values for beta are being computed, which is throwing off the results/attempts to compare results to the actual solution that minimizes the error. To check the error, we are supposed to substitute $\\beta$ into the equation for $\\hat{x}$ for the regularized SVD method and compute its L2 compared to the actual solution for x. I would expect all of the errors found in the approximated solution to be worse than the solution that directly minimizes $ x - \\hat{x}$, as we are chosing to minimize error with respect to another variable to solve the problem in a more convenient manner (I think). Leaving this in its current state to move on with studying for this week's exam!"
   ]
  },
  {
   "cell_type": "code",
   "execution_count": null,
   "id": "8a9e9530",
   "metadata": {},
   "outputs": [],
   "source": []
  }
 ],
 "metadata": {
  "kernelspec": {
   "display_name": "Python 3",
   "language": "python",
   "name": "python3"
  },
  "language_info": {
   "codemirror_mode": {
    "name": "ipython",
    "version": 3
   },
   "file_extension": ".py",
   "mimetype": "text/x-python",
   "name": "python",
   "nbconvert_exporter": "python",
   "pygments_lexer": "ipython3",
   "version": "3.8.8"
  }
 },
 "nbformat": 4,
 "nbformat_minor": 5
}

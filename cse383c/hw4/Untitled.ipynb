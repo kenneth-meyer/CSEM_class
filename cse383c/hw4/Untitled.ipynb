{
 "cells": [
  {
   "cell_type": "markdown",
   "id": "017ffe68",
   "metadata": {},
   "source": [
    "## Numerical Analysis HW4"
   ]
  },
  {
   "cell_type": "code",
   "execution_count": 1,
   "id": "4c202b95",
   "metadata": {},
   "outputs": [],
   "source": [
    "# Kenneth Meyer\n",
    "# 10/27/22"
   ]
  },
  {
   "cell_type": "code",
   "execution_count": 2,
   "id": "81390a27",
   "metadata": {},
   "outputs": [],
   "source": [
    "# imports\n",
    "import numpy as np"
   ]
  },
  {
   "cell_type": "markdown",
   "id": "b59ad58b",
   "metadata": {},
   "source": [
    "### 2. [5 points. Gram-Schmidt implementation]"
   ]
  },
  {
   "cell_type": "code",
   "execution_count": null,
   "id": "8a36dcc6",
   "metadata": {},
   "outputs": [],
   "source": [
    "def gramschmidt(A,flag):\n",
    "    \"\"\"\n",
    "    inputs\n",
    "        A : m x n full rank matrix s.t. m >= n\n",
    "        flag : bool, true -> CGS, false -> MGS\n",
    "    outputs\n",
    "        Q : m x n\n",
    "        R : n x n\n",
    "    \"\"\"\n",
    "    \n",
    "    # CGS (classical gram-schmidt implementation)\n",
    "    if flag:\n",
    "    \n",
    "    # MGS (modified gram-schmidt implementation)\n",
    "    elif ~flag:\n",
    "    \n",
    "    \n",
    "    return Q,R"
   ]
  }
 ],
 "metadata": {
  "kernelspec": {
   "display_name": "Python 3",
   "language": "python",
   "name": "python3"
  },
  "language_info": {
   "codemirror_mode": {
    "name": "ipython",
    "version": 3
   },
   "file_extension": ".py",
   "mimetype": "text/x-python",
   "name": "python",
   "nbconvert_exporter": "python",
   "pygments_lexer": "ipython3",
   "version": "3.6.13"
  }
 },
 "nbformat": 4,
 "nbformat_minor": 5
}

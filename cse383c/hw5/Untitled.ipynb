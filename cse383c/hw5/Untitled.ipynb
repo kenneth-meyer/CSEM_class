{
 "cells": [
  {
   "cell_type": "code",
   "execution_count": 1,
   "id": "439f2604-b927-4879-84c0-563c5350730f",
   "metadata": {},
   "outputs": [],
   "source": [
    "# Kenneth Meyer\n",
    "# 11/27/22\n",
    "# CSE383C hw5"
   ]
  },
  {
   "cell_type": "code",
   "execution_count": 2,
   "id": "86f77b04-62a0-4994-a844-21b8fdc39e5a",
   "metadata": {},
   "outputs": [],
   "source": [
    "import numpy as np"
   ]
  },
  {
   "cell_type": "code",
   "execution_count": 6,
   "id": "3a2450de-4b66-483b-ba11-d4873d64edac",
   "metadata": {},
   "outputs": [],
   "source": [
    "from scipy.linalg import cholesky\n",
    "from pyamg.gallery import poisson\n",
    "n = 100\n",
    "A = poisson((n,n)) # sparse\n",
    "B = A.toarray() + cholesky(A.toarray()) # asymmetric; dense"
   ]
  },
  {
   "cell_type": "markdown",
   "id": "bc1793fc-440e-4391-a2a9-b7177dff0247",
   "metadata": {},
   "source": [
    "# 1 : **see written answer**"
   ]
  },
  {
   "cell_type": "markdown",
   "id": "145b2c74-7608-46cb-a70b-88a320736b29",
   "metadata": {},
   "source": [
    "# 2 : *CG and GMRES*"
   ]
  },
  {
   "cell_type": "markdown",
   "id": "843bc03c-f111-4408-92dd-932790aa6593",
   "metadata": {},
   "source": [
    "## 2a: CG relative error"
   ]
  },
  {
   "cell_type": "code",
   "execution_count": 5,
   "id": "361b58c9-6ea4-4b92-9897-064a505199a3",
   "metadata": {},
   "outputs": [],
   "source": [
    "# Solve Ax = b for n=100, x* = 1 (true solution)\n",
    "\n",
    "# callback monitor function to compute relative residual and error at each iteration step\n",
    "\n",
    "# plot using semilogy"
   ]
  },
  {
   "cell_type": "code",
   "execution_count": null,
   "id": "c8c7e847-92e2-4ba6-bb69-b01934c5534f",
   "metadata": {},
   "outputs": [],
   "source": []
  },
  {
   "cell_type": "markdown",
   "id": "fa6408a2-c7a3-4e52-9374-3346cb37f7a1",
   "metadata": {},
   "source": [
    "## 2a: (results)\n",
    "*insert response here!*"
   ]
  },
  {
   "cell_type": "code",
   "execution_count": null,
   "id": "0359c49e-6a55-4b41-a0c1-0b5570c876bc",
   "metadata": {},
   "outputs": [],
   "source": []
  }
 ],
 "metadata": {
  "kernelspec": {
   "display_name": "Python 3 (ipykernel)",
   "language": "python",
   "name": "python3"
  },
  "language_info": {
   "codemirror_mode": {
    "name": "ipython",
    "version": 3
   },
   "file_extension": ".py",
   "mimetype": "text/x-python",
   "name": "python",
   "nbconvert_exporter": "python",
   "pygments_lexer": "ipython3",
   "version": "3.10.6"
  }
 },
 "nbformat": 4,
 "nbformat_minor": 5
}

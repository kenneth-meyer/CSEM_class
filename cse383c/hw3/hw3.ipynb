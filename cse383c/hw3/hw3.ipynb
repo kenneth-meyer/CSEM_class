{
 "cells": [
  {
   "cell_type": "code",
   "execution_count": 1,
   "id": "f0b3533f-9880-4efc-8e94-2110821d82a7",
   "metadata": {},
   "outputs": [],
   "source": [
    "### Kenneth Meyer\n",
    "### HW3 - CSE383C\n",
    "### 10/4\n",
    "### coding problems"
   ]
  },
  {
   "cell_type": "code",
   "execution_count": 19,
   "id": "4ad3f638-b342-4ee2-a664-366d86c83f67",
   "metadata": {},
   "outputs": [
    {
     "data": {
      "text/plain": [
       "<Figure size 640x480 with 0 Axes>"
      ]
     },
     "execution_count": 19,
     "metadata": {},
     "output_type": "execute_result"
    },
    {
     "data": {
      "text/plain": [
       "<Figure size 640x480 with 0 Axes>"
      ]
     },
     "metadata": {},
     "output_type": "display_data"
    }
   ],
   "source": [
    "import numpy as np\n",
    "import matplotlib.pyplot as plt\n",
    "from matplotlib.pyplot import figure\n",
    "\n",
    "figure(figsize=(8, 6), dpi=80)"
   ]
  },
  {
   "cell_type": "markdown",
   "id": "0c253e6e-bb57-45f5-9c6d-d3c435b70185",
   "metadata": {},
   "source": [
    "## 3. Rounding error for $ f(x) = x - sin(x), x \\in \\mathbb{R}$"
   ]
  },
  {
   "cell_type": "markdown",
   "id": "7536d43e-0a8a-4c02-aed9-8bbb6bfdd3dd",
   "metadata": {},
   "source": [
    "### 3a. Computation of condition number $k(x)$ (see hand written derivation) and plotting $k(x)$ for $x>0$ on a log-log scale\n"
   ]
  },
  {
   "cell_type": "code",
   "execution_count": 20,
   "id": "4aaba66c-53b0-45bc-93e9-db5b20fbe960",
   "metadata": {},
   "outputs": [],
   "source": [
    "## from handwritten derivation, k(x) = (x - x*cosx)/(x - sinx)\n",
    "\n",
    "# check that the condition number is not sensitive to using absolute value, don't know behavior of x - sin(x) well enough\n",
    "def f(x):\n",
    "    return x - np.sin(x)\n",
    "\n",
    "def k(x):\n",
    "    return (x - x*np.cos(x))/(x - np.sin(x))\n",
    "\n",
    "# k with absolute value\n",
    "def k_(x):\n",
    "    return ((1 - np.cos(x)) * np.abs(x))/np.abs(x - np.sin(x))"
   ]
  },
  {
   "cell_type": "code",
   "execution_count": 21,
   "id": "9be08644-24be-41d4-9690-5d356f097aa1",
   "metadata": {},
   "outputs": [],
   "source": [
    "# not sure the best way to show this for x > 0\n",
    "x = np.linspace(0.00001,100,10000)\n",
    "y = k(x)\n",
    "y_ = k_(x)"
   ]
  },
  {
   "cell_type": "code",
   "execution_count": 22,
   "id": "cbd86e37-3169-4538-8625-bf44834ac19d",
   "metadata": {},
   "outputs": [
    {
     "data": {
      "image/png": "[encoded data removed]",
      "text/plain": [
       "<Figure size 432x288 with 1 Axes>"
      ]
     },
     "metadata": {
      "needs_background": "light"
     },
     "output_type": "display_data"
    }
   ],
   "source": [
    "plt.loglog(x,y)\n",
    "plt.loglog(x,y_)\n",
    "plt.legend([\"without absolute value\",\"with absolute value\"])\n",
    "plt.show()"
   ]
  },
  {
   "cell_type": "markdown",
   "id": "1312df66-6bd3-4436-b9f1-985059699a1c",
   "metadata": {},
   "source": [
    "### 3b. Approximation of $f(x)$ using taylor expansion of $sin(x)$ around $x=0$"
   ]
  },
  {
   "cell_type": "code",
   "execution_count": 23,
   "id": "a3aa6461-1217-486d-a823-569947ba4aaa",
   "metadata": {},
   "outputs": [],
   "source": [
    "def g(x):\n",
    "    return ((x**3)/6)*(1-((x**2)/20)*(1-((x**2)/42)*(1-(x**2)/72)))\n",
    "# above equation was given in the problem"
   ]
  },
  {
   "cell_type": "code",
   "execution_count": 24,
   "id": "5db34453-ab37-4a8b-a02b-260dc3a45a8d",
   "metadata": {},
   "outputs": [],
   "source": [
    "def f_g_error(x):\n",
    "    return np.abs(f(x)-g(x))/np.abs(g(x))"
   ]
  },
  {
   "cell_type": "code",
   "execution_count": 25,
   "id": "e5fe90c3-7ee4-4bdf-b4c2-839d04750811",
   "metadata": {},
   "outputs": [],
   "source": [
    "# plotting difference between f and g for 0 < x <= 2\n",
    "i = np.arange(-30,2,1)\n",
    "x = []\n",
    "for ii in range(0,len(i)):\n",
    "    x.append(2**int(i[ii]))\n",
    "x = np.array(x,np.float64)"
   ]
  },
  {
   "cell_type": "code",
   "execution_count": 26,
   "id": "7250fc8c-a49c-4f52-9a96-e98ef281e4bf",
   "metadata": {},
   "outputs": [
    {
     "data": {
      "text/plain": [
       "[<matplotlib.lines.Line2D at 0x25bc1b2f198>]"
      ]
     },
     "execution_count": 26,
     "metadata": {},
     "output_type": "execute_result"
    },
    {
     "data": {
      "image/png": "[encoded data removed]",
      "text/plain": [
       "<Figure size 432x288 with 1 Axes>"
      ]
     },
     "metadata": {
      "needs_background": "light"
     },
     "output_type": "display_data"
    }
   ],
   "source": [
    "f_g_err = f_g_error(x)\n",
    "plt.loglog(x,f_g_err)"
   ]
  },
  {
   "cell_type": "markdown",
   "id": "9fc6d17d",
   "metadata": {},
   "source": [
    "## For small values of x, the error is approximately 1. x - sin(x) clearly suffers from cancellation errors at small values, as a cancellation error in $f(x) = x - sin(x)$ would make the equation representing the difference of $f(x)$ and its taylor series approximation $g(x)$ reduce to the following: $\\frac{|f(x) - g(x)|}{|g(x)|} = \\frac{|0 - g(x)|}{|g(x)|} = 1$. As x approaches 1, the error beings to reduce logarithmically."
   ]
  },
  {
   "cell_type": "code",
   "execution_count": 27,
   "id": "8e0e78a8",
   "metadata": {},
   "outputs": [
    {
     "name": "stdout",
     "output_type": "stream",
     "text": [
      "[-30 -29 -28 -27 -26 -25 -24 -23 -22 -21 -20 -19 -18 -17 -16 -15 -14 -13\n",
      " -12 -11 -10  -9  -8  -7  -6  -5  -4  -3  -2  -1   0   1]\n"
     ]
    }
   ],
   "source": [
    "# ^^ check if the cancellation actually follows as I proposed.\n",
    "print(i)"
   ]
  },
  {
   "cell_type": "markdown",
   "id": "c512dcc8",
   "metadata": {},
   "source": [
    "## 4. Evaluation of $p(x)$ using horner's algorithm, along with error analysis."
   ]
  },
  {
   "cell_type": "code",
   "execution_count": 28,
   "id": "a922d0b4",
   "metadata": {},
   "outputs": [
    {
     "name": "stdout",
     "output_type": "stream",
     "text": [
      "2.220446049250313e-16\n"
     ]
    }
   ],
   "source": [
    "# machine epsilon for numpy\n",
    "print(np.finfo(float).eps)"
   ]
  },
  {
   "cell_type": "code",
   "execution_count": 54,
   "id": "fcbf6bf4",
   "metadata": {},
   "outputs": [],
   "source": [
    "# definition of horner's algorithm\n",
    "def horner(a,x):\n",
    "    d = len(a)\n",
    "    p = a[d-1]\n",
    "    # check that last\n",
    "    for i in range(d-2,-1,-1):\n",
    "        p = x*p + a[i]\n",
    "        \n",
    "    return p\n",
    "\n",
    "# definition of p(x) using eqn 1\n",
    "def p(x):\n",
    "    p = x**9 - 18*x**8 + 144*x**7 - 672*x**6 + 2016*x**5 - 4032*x**4 + 5376*x**3 - 4608*x**2 + 2304*x - 512\n",
    "    return p"
   ]
  },
  {
   "cell_type": "code",
   "execution_count": 55,
   "id": "bee2d604",
   "metadata": {},
   "outputs": [],
   "source": [
    "x_13 = np.linspace(1,3,2**13)\n",
    "eps = np.finfo(float).eps\n",
    "x_2e = np.linspace(2 - eps,2 + eps, 2**13)\n",
    "\n",
    "a = np.array([-512,2304,-4608,5376,-4032,2016,-672,144,-18,1])\n",
    "horner_x13 = horner(a,x_13)\n",
    "horner_x2e = horner(a,x_2e)\n",
    "p_x13 = p(x_13)\n",
    "p_x2e = p(x_2e)"
   ]
  },
  {
   "cell_type": "code",
   "execution_count": 56,
   "id": "74b31b4c",
   "metadata": {},
   "outputs": [
    {
     "data": {
      "image/png": "[encoded data removed]",
      "text/plain": [
       "<Figure size 432x288 with 1 Axes>"
      ]
     },
     "metadata": {
      "needs_background": "light"
     },
     "output_type": "display_data"
    }
   ],
   "source": [
    "# make this plot look nice later\n",
    "plt.plot(x_13,horner_x13)\n",
    "plt.plot(x_13,p_x13)\n",
    "plt.legend([\"Horner's algorithm\", \"polynomial $p(x)$\"])\n",
    "plt.show()"
   ]
  },
  {
   "cell_type": "code",
   "execution_count": 57,
   "id": "2194602a",
   "metadata": {},
   "outputs": [
    {
     "data": {
      "image/png": "[encoded data removed]",
      "text/plain": [
       "<Figure size 432x288 with 1 Axes>"
      ]
     },
     "metadata": {
      "needs_background": "light"
     },
     "output_type": "display_data"
    }
   ],
   "source": [
    "#%matplotlib widget\n",
    "fig = plt.figure()\n",
    "ax = fig.add_subplot(111)\n",
    "ax.plot(x_2e,horner_x2e)\n",
    "ax.plot(x_2e,p_x2e)\n",
    "#plt.legend([\"Horner's algorithm\", \"polynomial $p(x)$\"])\n",
    "# does nothing\n",
    "#plt.xlim(1,3)\n",
    "plt.show()"
   ]
  },
  {
   "cell_type": "code",
   "execution_count": 49,
   "id": "9855a35c",
   "metadata": {},
   "outputs": [
    {
     "data": {
      "text/plain": [
       "dtype('float64')"
      ]
     },
     "execution_count": 49,
     "metadata": {},
     "output_type": "execute_result"
    }
   ],
   "source": [
    "x_2e.dtype\n",
    "## run this on my desktop tomorrow to fix the plot shown above ^"
   ]
  },
  {
   "cell_type": "markdown",
   "id": "9fc6acc4",
   "metadata": {},
   "source": [
    "## 4d : use binary search to find the roots of $p(x)$ for $x \\in [1.5,2.5]$"
   ]
  },
  {
   "cell_type": "code",
   "execution_count": 85,
   "id": "6bd703a6",
   "metadata": {},
   "outputs": [],
   "source": [
    "def binary_search_p(guess):\n",
    "    # choose a x in the range of [1.5,2.5]\n",
    "    x_u = 2.5\n",
    "    x_l = 1.5\n",
    "    x_g = guess\n",
    "    \n",
    "    # pick appropriate bounds dependent on location of x\n",
    "    if p(x_g) < 0:\n",
    "        x_l = x_g\n",
    "    else:\n",
    "        x_u = x_g\n",
    "    \n",
    "    found = False\n",
    "    root = 0\n",
    "    # as of now, could run forever\n",
    "    while not found:\n",
    "        # monotone increasing function\n",
    "        x_m = (x_l + x_u)/2\n",
    "\n",
    "        # play around with tolerance to see what happens\n",
    "        if np.isclose(p(x_m),0):\n",
    "            root = p(x_m)\n",
    "            found = True\n",
    "        elif p(x_l)*p(x_m) < 0:\n",
    "            x_u = x_m\n",
    "        else:\n",
    "            x_l = x_m\n",
    "            \n",
    "    return x_m"
   ]
  },
  {
   "cell_type": "code",
   "execution_count": 96,
   "id": "4152b68b",
   "metadata": {},
   "outputs": [],
   "source": [
    "# search for roots in the range 1.5 to 2.5\n",
    "num_runs = 100000\n",
    "roots = np.zeros(num_runs)\n",
    "for i in range(0,num_runs):\n",
    "    guess = np.random.uniform(1.5,2.5)\n",
    "    roots[i] = binary_search_p(guess)"
   ]
  },
  {
   "cell_type": "code",
   "execution_count": 97,
   "id": "fde0ea4c",
   "metadata": {},
   "outputs": [
    {
     "data": {
      "text/plain": [
       "(array([ 7437.,  8629.,  9845., 12255., 12116., 11986., 12039.,  9750.,\n",
       "         8621.,  7322.]),\n",
       " array([1.87084087, 1.89667403, 1.92250718, 1.94834033, 1.97417348,\n",
       "        2.00000663, 2.02583978, 2.05167293, 2.07750608, 2.10333924,\n",
       "        2.12917239]),\n",
       " <BarContainer object of 10 artists>)"
      ]
     },
     "execution_count": 97,
     "metadata": {},
     "output_type": "execute_result"
    },
    {
     "data": {
      "image/png": "[encoded data removed]",
      "text/plain": [
       "<Figure size 432x288 with 1 Axes>"
      ]
     },
     "metadata": {
      "needs_background": "light"
     },
     "output_type": "display_data"
    }
   ],
   "source": [
    "plt.hist(roots)"
   ]
  },
  {
   "cell_type": "code",
   "execution_count": 78,
   "id": "411469ab",
   "metadata": {},
   "outputs": [
    {
     "data": {
      "text/plain": [
       "array([-5.45696821e-12, -1.00044417e-11,  3.63797881e-12, -7.27595761e-12,\n",
       "       -1.63709046e-11,  9.09494702e-13,  3.59432306e-09,  4.86579665e-10,\n",
       "        6.49379217e-10,  4.82032192e-11, -2.72848411e-12,  5.61885827e-09,\n",
       "       -6.36646291e-12, -2.72848411e-12,  1.00044417e-11, -4.12455847e-09,\n",
       "        5.54791768e-11, -3.63797881e-12, -1.79170456e-10, -3.63797881e-12,\n",
       "        1.27329258e-11, -7.13953341e-09,  7.27595761e-12,  5.45696821e-12,\n",
       "        9.09494702e-12,  1.18234311e-11, -2.54658516e-11, -7.17045623e-09,\n",
       "       -4.54747351e-12, -4.72209649e-09, -2.54658516e-10, -2.99223757e-10,\n",
       "       -5.18411980e-11, -1.09139364e-11,  2.00088834e-11,  7.43966666e-10,\n",
       "        9.09494702e-12, -1.81898940e-12,  1.81898940e-11,  0.00000000e+00,\n",
       "       -4.38376446e-10,  4.54747351e-12, -3.69254849e-10,  0.00000000e+00,\n",
       "       -1.57524482e-09, -5.82076609e-11, -4.54747351e-12, -1.81898940e-12,\n",
       "       -5.18411980e-10,  1.40062184e-10,  7.27595761e-12, -8.18545232e-12,\n",
       "        0.00000000e+00,  3.63797881e-12,  0.00000000e+00, -4.59294824e-10,\n",
       "       -1.09957909e-09,  7.63975549e-11, -6.36646291e-12, -1.81898940e-12,\n",
       "        4.63842298e-11,  8.97580321e-09,  8.00355338e-11,  1.43700163e-10,\n",
       "       -7.82165444e-11,  2.72848411e-12, -9.09494702e-13,  5.36601874e-11,\n",
       "       -5.57065505e-09,  6.20457286e-09, -5.45696821e-12, -9.09494702e-13,\n",
       "        4.54747351e-12,  3.63797881e-11,  7.94534571e-09,  6.36646291e-12,\n",
       "       -2.72848411e-12, -1.16415322e-10,  5.45696821e-12,  9.09494702e-12,\n",
       "       -3.63797881e-12,  2.72848411e-12, -6.36646291e-12, -2.01180228e-09,\n",
       "       -9.09494702e-13, -1.09139364e-11, -1.59707270e-09, -1.87719706e-09,\n",
       "        4.54747351e-12, -7.27595761e-12,  3.63797881e-12, -1.26419764e-10,\n",
       "        1.09139364e-11,  0.00000000e+00,  7.27595761e-12, -1.00044417e-11,\n",
       "        3.63797881e-12, -3.63797881e-12, -1.27329258e-11, -4.54747351e-12,\n",
       "       -1.00044417e-10,  1.71894499e-10,  1.09139364e-11,  3.72892828e-11,\n",
       "       -4.54747351e-12,  5.01222530e-09,  3.63797881e-12, -1.81898940e-12,\n",
       "        3.63797881e-12,  9.09494702e-13, -5.63886715e-10, -4.54747351e-12,\n",
       "       -1.76623871e-09, -1.72803993e-11, -2.86672730e-09,  5.45696821e-12,\n",
       "       -1.81898940e-11, -3.19505489e-09, -9.09494702e-13, -8.13088263e-10,\n",
       "       -1.09139364e-11,  3.57249519e-09,  2.71938916e-10, -8.18545232e-10,\n",
       "        0.00000000e+00,  1.00226316e-09, -1.92721927e-09, -1.00044417e-11,\n",
       "        8.27640179e-11,  2.48564902e-09,  2.63753464e-11,  2.74121703e-09,\n",
       "        3.63797881e-12,  8.18545232e-12,  1.36424205e-11, -1.00044417e-11,\n",
       "       -5.62067726e-10, -5.21140464e-10, -8.81300366e-10, -4.08908818e-09,\n",
       "       -2.72848411e-12, -1.65437086e-09,  1.85536919e-10, -6.73026079e-11,\n",
       "       -7.27595761e-12, -3.63797881e-12,  9.09494702e-13,  1.27329258e-11,\n",
       "        0.00000000e+00,  1.63709046e-11,  3.63797881e-12,  1.90993887e-11,\n",
       "       -6.00266503e-11, -1.00044417e-11, -8.89485818e-09, -1.45519152e-11,\n",
       "       -1.81898940e-12,  5.18411980e-11,  1.61890057e-10, -2.00998329e-09,\n",
       "        1.20053301e-10, -7.12316250e-09, -1.09139364e-11, -7.19410309e-10,\n",
       "       -1.81898940e-12,  1.81898940e-12,  5.91171556e-11,  1.63709046e-11,\n",
       "       -1.63709046e-11,  9.09494702e-13,  9.91349225e-09,  1.81898940e-12,\n",
       "       -1.24600774e-10,  0.00000000e+00, -2.63753464e-11, -9.09494702e-13,\n",
       "        3.63797881e-12, -2.72848411e-12, -5.09317033e-11, -6.36646291e-12,\n",
       "       -1.45519152e-11, -5.45696821e-12,  0.00000000e+00, -1.00044417e-11,\n",
       "        1.44609658e-10,  1.18234311e-11,  1.29239197e-09, -1.81898940e-12,\n",
       "        2.54658516e-11, -3.98176780e-09,  3.91992216e-09, -1.45519152e-11,\n",
       "       -4.00177669e-11, -7.34598871e-09, -1.63709046e-11,  1.17597665e-09,\n",
       "       -1.39152689e-10,  8.43192538e-09, -1.81898940e-12, -6.99401426e-10,\n",
       "        5.45696821e-12,  2.72848411e-12,  1.46883394e-09,  4.65479388e-09,\n",
       "        5.70253178e-10,  7.27595761e-12, -8.18545232e-12,  2.72848411e-12,\n",
       "        6.18456397e-11,  9.09494702e-13,  0.00000000e+00, -1.26419764e-10,\n",
       "        5.09317033e-11,  3.49791662e-09,  1.81898940e-12,  1.57797331e-09,\n",
       "       -4.54747351e-12, -1.36424205e-11,  1.12140697e-09,  1.15142029e-09,\n",
       "        1.36424205e-11, -9.27684596e-11, -1.81898940e-11,  1.63709046e-11,\n",
       "        9.09494702e-13, -4.82123141e-09,  3.63797881e-12, -3.93629307e-09,\n",
       "        7.27595761e-12,  1.81898940e-12,  1.81898940e-12,  1.09139364e-11,\n",
       "        6.88487489e-10, -1.27329258e-11,  9.70612746e-09,  0.00000000e+00,\n",
       "       -5.45696821e-11,  4.08363121e-10, -6.36646291e-12,  8.73114914e-11,\n",
       "        5.04132913e-09,  2.72848411e-12,  2.00088834e-11, -1.45519152e-11,\n",
       "        1.72803993e-11, -2.27373675e-11, -1.60980562e-09, -4.36557457e-11,\n",
       "        2.72848411e-12,  1.90993887e-10, -2.59751687e-09, -1.24509825e-09,\n",
       "       -5.45696821e-12,  6.43922249e-09, -9.09494702e-12, -1.63709046e-10,\n",
       "       -5.45696821e-12,  3.63797881e-12,  0.00000000e+00,  1.79170456e-10,\n",
       "       -2.72848411e-12,  2.86490831e-10,  6.73026079e-11,  8.18545232e-12,\n",
       "       -8.18545232e-12,  1.09139364e-11,  5.86624083e-10,  5.45696821e-11,\n",
       "       -5.54791768e-11,  4.45652404e-11,  5.45696821e-12, -1.63709046e-11,\n",
       "       -1.00044417e-11, -3.27418093e-11,  4.54747351e-12,  9.09494702e-13,\n",
       "       -9.09494702e-13,  2.91038305e-11,  1.36424205e-11, -7.27595761e-12,\n",
       "        0.00000000e+00,  6.36646291e-12,  1.00044417e-11, -7.45785655e-11,\n",
       "       -2.99769454e-09,  2.72848411e-12, -8.18545232e-12,  1.63709046e-11,\n",
       "        1.09139364e-11, -1.81898940e-11, -7.27595761e-12,  0.00000000e+00,\n",
       "        1.38243195e-10, -1.09139364e-11, -5.45696821e-12, -3.63797881e-12,\n",
       "       -2.45563569e-11, -4.54747351e-12,  6.00266503e-10,  2.72848411e-12,\n",
       "       -9.09494702e-12,  2.00088834e-10, -1.42790668e-10,  1.81898940e-12,\n",
       "       -5.11499820e-09,  5.45696821e-12, -1.72803993e-09, -6.09361450e-11,\n",
       "        1.67528924e-09, -9.09494702e-12, -4.54747351e-11, -5.27506927e-11,\n",
       "       -2.72848411e-12, -4.15639079e-10, -4.82577889e-09, -2.72848411e-12,\n",
       "       -1.18234311e-11,  3.91082722e-11,  0.00000000e+00,  2.72848411e-12,\n",
       "        3.47608875e-09,  6.36646291e-12, -1.81898940e-12, -8.18545232e-12,\n",
       "       -1.04500941e-09, -1.00044417e-11,  2.27373675e-11, -2.71302270e-09,\n",
       "       -4.54747351e-12, -2.72848411e-12,  7.09405867e-11, -6.52289600e-09,\n",
       "       -1.09139364e-11, -4.54747351e-12, -6.36646291e-12,  1.18234311e-11,\n",
       "       -1.81898940e-12,  2.03726813e-09, -5.45696821e-12,  5.45696821e-12,\n",
       "        2.72848411e-12,  1.81898940e-12,  1.92812877e-10, -1.13777787e-09,\n",
       "       -2.55568011e-10,  4.54747351e-12,  1.27329258e-11, -1.27329258e-11,\n",
       "        1.81898940e-12, -5.45696821e-12, -3.36240191e-09, -5.45696821e-12,\n",
       "       -9.09494702e-12, -4.54747351e-12,  0.00000000e+00, -1.27329258e-11,\n",
       "       -7.09405867e-11, -7.27595761e-12,  1.72803993e-11,  2.18278728e-11,\n",
       "       -1.81898940e-12,  3.73620423e-09, -2.91038305e-11, -3.51974450e-10,\n",
       "        2.64662958e-10,  2.11548468e-09,  6.33008312e-09, -7.27595761e-12,\n",
       "       -9.09494702e-12, -3.75621312e-10, -1.09139364e-11,  0.00000000e+00,\n",
       "        7.55608198e-09,  4.18367563e-11, -1.87537808e-09,  8.18545232e-12,\n",
       "        9.09494702e-13, -2.80124368e-10, -2.72848411e-12, -5.36601874e-11,\n",
       "       -5.45696821e-12, -1.19234755e-09,  8.13088263e-10, -3.63797881e-12,\n",
       "        4.61841410e-09, -8.00355338e-11, -3.63797881e-12, -6.36646291e-12,\n",
       "       -4.57475835e-10,  1.53613655e-09,  7.27595761e-12,  0.00000000e+00,\n",
       "        9.09494702e-13,  5.45696821e-12, -7.82165444e-11,  1.36424205e-11,\n",
       "        1.51885615e-10,  9.54969437e-11,  8.18545232e-12,  1.54614099e-11,\n",
       "        3.63797881e-12, -8.18545232e-12,  1.09139364e-11,  9.09494702e-12,\n",
       "       -2.87400326e-10, -1.00044417e-11, -1.00044417e-10,  3.63797881e-12,\n",
       "        2.11912266e-10, -1.88265403e-10,  0.00000000e+00,  5.62158675e-09,\n",
       "        5.09317033e-11, -2.81943358e-11,  5.85714588e-09,  2.72848411e-12,\n",
       "       -8.08086043e-09,  1.74622983e-10, -1.63709046e-11, -1.36424205e-10,\n",
       "       -2.45563569e-11, -3.91082722e-11,  8.09450285e-11,  8.00355338e-11,\n",
       "       -2.72848411e-11,  1.01863407e-10, -9.09494702e-12,  4.88853402e-09,\n",
       "        9.09494702e-13, -2.81943358e-11, -7.54153007e-09,  1.00044417e-11,\n",
       "       -1.81898940e-11,  4.54747351e-12,  8.18545232e-12,  6.09361450e-11,\n",
       "       -9.09494702e-12,  1.81898940e-12, -2.11002771e-10, -1.81898940e-11,\n",
       "       -2.68300937e-10, -2.72848411e-12, -7.27595761e-12,  7.72161002e-10,\n",
       "       -2.72848411e-12,  2.72848411e-12, -1.00044417e-11, -4.24734026e-10,\n",
       "        8.18545232e-12, -3.63797881e-12, -2.72848411e-12, -4.54747351e-10,\n",
       "        1.72803993e-11,  4.54747351e-12,  3.00133252e-11, -1.81898940e-11,\n",
       "       -1.16415322e-10,  2.38287612e-10, -4.96129360e-09, -1.98269845e-10,\n",
       "       -9.54969437e-11, -6.36646291e-12, -4.19368007e-09,  7.27595761e-12,\n",
       "       -1.81898940e-12, -9.89984983e-09, -2.96222424e-09,  0.00000000e+00,\n",
       "       -1.81898940e-12,  2.11912266e-10, -1.83717930e-10, -9.09494702e-13,\n",
       "       -2.72848411e-12, -5.45696821e-12, -1.25237420e-09,  7.58518581e-10,\n",
       "       -1.63709046e-11, -5.45696821e-12,  5.60248736e-10, -8.15452950e-09,\n",
       "        1.81898940e-12,  1.99543138e-09, -6.73026079e-11, -6.84030965e-09,\n",
       "       -2.72848411e-12,  2.72848411e-12,  0.00000000e+00,  8.91304808e-11,\n",
       "        5.45696821e-12, -2.38105713e-09,  0.00000000e+00,  4.80213203e-09,\n",
       "        1.81898940e-12,  5.45696821e-12, -1.01681508e-09,  6.35736797e-10,\n",
       "        8.36735126e-11, -1.23418431e-09, -4.54747351e-12, -7.34507921e-09,\n",
       "        1.00044417e-11, -1.62799552e-10,  0.00000000e+00,  1.18234311e-11,\n",
       "       -6.36646291e-12,  3.01952241e-10,  1.81898940e-12, -1.57979230e-09,\n",
       "       -3.31965566e-10, -8.18545232e-12,  9.09494702e-13, -6.36646291e-12,\n",
       "       -9.09494702e-13, -8.18545232e-12, -1.54614099e-11, -1.81898940e-12,\n",
       "       -2.24645191e-10, -1.34605216e-10, -9.09494702e-12, -4.64751793e-10,\n",
       "        5.87533577e-10, -1.52795110e-10, -1.00044417e-11, -8.18545232e-12,\n",
       "        5.53882273e-09,  4.00177669e-11,  1.72803993e-11, -9.66792868e-10,\n",
       "        1.70985004e-10,  2.31011654e-10, -5.36601874e-11,  1.65528036e-09,\n",
       "       -4.54747351e-12, -1.36424205e-11,  1.09139364e-11,  1.45519152e-11,\n",
       "       -1.27329258e-11, -6.73026079e-11, -4.54747351e-12, -1.09139364e-11,\n",
       "       -3.19869287e-09,  5.30235411e-10, -1.08229870e-10, -4.36557457e-11,\n",
       "        6.36646291e-12,  2.36468622e-11, -4.54747351e-12, -1.36424205e-11,\n",
       "       -9.09494702e-12,  2.44108378e-09,  7.27595761e-12, -1.63709046e-11,\n",
       "        4.54747351e-12, -2.19188223e-10,  3.63797881e-12,  3.63797881e-12,\n",
       "        1.59525371e-09, -4.54747351e-12,  9.09494702e-12, -1.27329258e-11,\n",
       "       -8.18545232e-12, -3.63797881e-12, -1.54614099e-11,  6.36646291e-12,\n",
       "        1.04591891e-10,  2.72848411e-12, -5.45696821e-12, -1.27329258e-11,\n",
       "        3.63797881e-12, -1.27329258e-11, -9.04856279e-09,  0.00000000e+00,\n",
       "        1.39152689e-10,  1.09139364e-11,  0.00000000e+00,  1.81898940e-12,\n",
       "        1.45519152e-11,  5.45696821e-12,  7.27595761e-12, -1.81898940e-11,\n",
       "       -2.27373675e-11, -6.34008757e-09,  3.00133252e-11, -8.18545232e-12,\n",
       "        3.35603545e-10,  1.45519152e-11, -2.72848411e-12, -2.74667400e-10,\n",
       "        5.29053068e-09, -7.27595761e-12,  9.09494702e-13,  2.72848411e-12,\n",
       "        7.27595761e-12,  9.09494702e-12,  8.70659278e-09, -1.25510269e-10,\n",
       "       -3.63797881e-12,  1.28238753e-10,  0.00000000e+00, -8.18545232e-12,\n",
       "       -1.00044417e-11,  3.18323146e-11, -9.09494702e-13,  1.90993887e-11,\n",
       "       -3.63797881e-12, -1.81898940e-12, -6.36646291e-12, -3.18686944e-09,\n",
       "       -3.54339136e-09, -2.72848411e-12,  5.45696821e-12, -9.42236511e-10,\n",
       "        2.45563569e-11,  2.27373675e-11,  3.63797881e-12,  1.36424205e-11,\n",
       "       -9.09494702e-11, -8.18545232e-12,  2.72848411e-12, -2.54658516e-10,\n",
       "        3.36513040e-11,  3.45607987e-11,  8.28549673e-10,  3.63797881e-12,\n",
       "        9.09494702e-13, -4.54747351e-12,  4.54747351e-12,  6.47560228e-10,\n",
       "        1.81898940e-12, -7.45785655e-11,  7.27595761e-12, -1.85536919e-10,\n",
       "       -3.63797881e-12,  2.18278728e-11,  1.40971679e-10, -9.09494702e-13,\n",
       "       -1.09139364e-11,  8.73114914e-11, -5.16047294e-09,  1.56433089e-10,\n",
       "       -1.44609658e-10, -2.00088834e-11,  2.72848411e-12, -5.45696821e-11,\n",
       "       -3.00406100e-09, -4.54747351e-12,  7.09223968e-09,  1.69711711e-09,\n",
       "        3.58340912e-10, -5.45696821e-12, -4.95947461e-09, -1.56433089e-10,\n",
       "       -2.33740138e-10, -8.18545232e-12,  1.05501385e-10,  8.18545232e-12,\n",
       "        2.79396772e-09,  4.54747351e-12,  3.81987775e-11,  1.36424205e-11,\n",
       "        5.63886715e-11,  1.71894499e-10,  4.73482942e-09, -7.67613528e-10,\n",
       "        3.54702934e-11,  3.63797881e-12,  6.82121026e-11,  1.81898940e-12,\n",
       "        1.00044417e-11, -2.54658516e-11,  1.56433089e-10,  2.63753464e-11,\n",
       "        1.24600774e-10,  3.63797881e-11,  8.07449396e-09, -1.20962795e-09,\n",
       "        1.49702828e-09, -1.49975676e-09, -3.63797881e-12, -9.64064384e-11,\n",
       "        1.81898940e-12, -2.22280505e-09, -7.27595761e-12,  9.09494702e-12,\n",
       "       -1.02772901e-10,  0.00000000e+00,  0.00000000e+00,  9.09494702e-12,\n",
       "        1.60071068e-10, -2.81033863e-10, -5.91171556e-11,  8.18545232e-12,\n",
       "       -4.54747351e-12,  8.54925020e-11,  9.09494702e-12, -1.72803993e-11,\n",
       "       -1.72803993e-11,  2.36468622e-11,  1.22781785e-10,  4.13638190e-09,\n",
       "       -1.81898940e-12,  1.18234311e-11,  1.81898940e-12,  3.09228199e-11,\n",
       "       -5.45696821e-12, -4.18913260e-09, -7.27595761e-12,  2.72848411e-12,\n",
       "        5.74800652e-10,  2.20097718e-09,  5.45696821e-12,  1.81898940e-12,\n",
       "        1.36424205e-11, -2.73757905e-09,  1.81898940e-12, -1.81898940e-12,\n",
       "       -1.94540917e-09,  4.53837856e-10,  1.65528036e-10,  8.44920578e-09,\n",
       "        1.63709046e-10, -5.45696821e-12,  4.54747351e-12,  2.45563569e-11,\n",
       "        7.27595761e-12, -3.63797881e-12, -2.09183781e-11, -6.36646291e-12,\n",
       "        3.63797881e-12, -3.63797881e-12, -9.09494702e-13, -1.27329258e-11,\n",
       "        1.09139364e-11, -3.63797881e-12,  0.00000000e+00,  7.27595761e-12,\n",
       "        2.72848411e-12,  1.31421984e-09,  3.63797881e-12, -5.45696821e-12,\n",
       "       -8.18545232e-12, -7.18500814e-11, -1.27329258e-11,  1.52795110e-10,\n",
       "        1.09139364e-11, -1.36424205e-11,  8.18545232e-12,  5.45696821e-12,\n",
       "       -4.54747351e-12,  1.72803993e-11,  2.00088834e-11, -1.88265403e-10,\n",
       "       -2.27373675e-11, -1.06410880e-10,  0.00000000e+00,  3.63797881e-12,\n",
       "        4.18367563e-11, -5.45696821e-12, -4.18367563e-11,  2.44017428e-09,\n",
       "        2.72848411e-12,  7.27595761e-12,  0.00000000e+00, -8.07631295e-10,\n",
       "       -1.29148248e-10,  2.58296495e-10,  3.63797881e-12,  1.90993887e-11,\n",
       "        1.54614099e-11,  1.81898940e-11,  0.00000000e+00, -6.36646291e-12,\n",
       "        6.74845069e-10,  0.00000000e+00,  3.63797881e-12, -1.50976120e-10,\n",
       "       -5.24596544e-09,  1.45519152e-11,  0.00000000e+00, -1.36424205e-11,\n",
       "        5.45696821e-12, -3.10137693e-10,  8.18545232e-12,  4.54747351e-12,\n",
       "        3.43788997e-10,  1.45519152e-11, -2.19642970e-09, -1.27329258e-11,\n",
       "       -7.27595761e-12, -5.45696821e-12,  9.09494702e-13,  2.00088834e-11,\n",
       "       -8.18545232e-12,  3.63797881e-12,  1.24418875e-09,  1.27329258e-11,\n",
       "        1.00044417e-11,  1.27329258e-11, -1.09139364e-11,  6.36646291e-12,\n",
       "        8.18545232e-12,  6.36646291e-12, -1.81898940e-12, -5.82076609e-11,\n",
       "        4.14729584e-10, -2.72848411e-12,  9.09494702e-13,  6.36646291e-12,\n",
       "       -7.08496373e-10, -3.79259291e-10, -4.31373337e-09, -1.81898940e-12,\n",
       "        1.81898940e-12, -2.72848411e-12, -2.72848411e-12, -1.81898940e-12,\n",
       "       -5.45696821e-12,  3.45607987e-11, -2.72848411e-12, -1.81898940e-12,\n",
       "       -5.12955012e-10,  9.74978320e-10,  1.25510269e-10,  3.63797881e-12,\n",
       "       -3.63797881e-12, -2.72848411e-12,  2.72848411e-12, -1.40062184e-10,\n",
       "        9.09494702e-13, -1.09139364e-11, -3.12502380e-09, -2.72848411e-12,\n",
       "        7.27595761e-12, -1.92812877e-10,  7.27595761e-10, -2.00088834e-11,\n",
       "       -7.27595761e-12,  5.45696821e-12, -3.94720701e-10, -8.18545232e-12,\n",
       "        1.18234311e-11, -1.81898940e-11, -7.27595761e-12, -1.27329258e-11,\n",
       "       -1.63709046e-11, -5.45696821e-12, -4.80486051e-09,  2.20825314e-09,\n",
       "       -3.63797881e-12, -3.63797881e-12, -3.63797881e-12, -3.74711817e-10,\n",
       "        1.34969014e-09, -1.00044417e-11,  2.91038305e-11,  0.00000000e+00,\n",
       "        9.09494702e-13,  8.73114914e-09, -1.27874955e-09,  8.36735126e-11,\n",
       "        2.72848411e-12,  1.81898940e-12,  3.06863512e-09, -8.18545232e-12,\n",
       "       -1.81898940e-12, -7.26504368e-09,  1.81898940e-12, -3.65616870e-10,\n",
       "        7.83984433e-10,  6.01175998e-10, -4.67662176e-09, -4.54747351e-12,\n",
       "       -2.07546691e-09, -1.05228537e-09, -5.12955012e-10,  5.50608092e-09,\n",
       "        2.18278728e-10, -5.45696821e-12, -3.43334250e-09,  1.99179340e-10,\n",
       "       -5.76710590e-09,  0.00000000e+00, -3.81987775e-11,  8.11269274e-10,\n",
       "       -8.86757334e-10,  6.00266503e-11,  9.09494702e-13, -3.63797881e-12,\n",
       "       -3.09228199e-11,  1.81898940e-12,  1.81898940e-12,  6.82121026e-11,\n",
       "        4.16457624e-09,  1.81898940e-12,  3.63797881e-11,  1.81898940e-12,\n",
       "       -4.33828973e-09,  2.72848411e-12, -2.91038305e-11,  2.91038305e-11,\n",
       "       -3.54702934e-10,  9.09494702e-12,  3.41788109e-09,  2.21916707e-10,\n",
       "       -5.45696821e-12, -9.26411303e-09,  7.45785655e-11, -4.54747351e-12,\n",
       "       -2.96495273e-10,  2.72393663e-09,  7.96717359e-10,  9.77706804e-10,\n",
       "        8.18545232e-12,  4.54747351e-12, -2.54658516e-11, -1.00044417e-11,\n",
       "        1.90993887e-11,  0.00000000e+00, -6.36646291e-12,  6.36646291e-12,\n",
       "        1.72076398e-09, -9.09494702e-12, -9.09494702e-12,  1.63709046e-10,\n",
       "        2.72848411e-12, -3.17413651e-10,  7.07132131e-09,  5.82986104e-10,\n",
       "        4.54747351e-12, -2.81943358e-11, -9.09494702e-13,  2.72848411e-12,\n",
       "       -8.60563887e-09, -9.27684596e-11,  1.27329258e-11,  1.81898940e-12,\n",
       "        6.36646291e-11, -7.06495484e-09,  1.27329258e-11, -1.63709046e-11,\n",
       "        4.54747351e-12,  3.63797881e-12, -1.63709046e-11, -2.81943358e-11,\n",
       "       -4.40195436e-09,  6.36646291e-12,  1.81898940e-12,  2.27373675e-11,\n",
       "        2.72848411e-12,  3.37422534e-10,  1.97178451e-09,  1.81898940e-12,\n",
       "       -1.81898940e-12, -2.72848411e-12,  4.09272616e-11,  0.00000000e+00,\n",
       "        8.65838956e-10, -2.72848411e-12, -2.48292054e-10,  1.00044417e-11,\n",
       "       -1.00044417e-11,  9.75433068e-09,  1.00044417e-11, -1.44609658e-10,\n",
       "       -3.45607987e-11,  2.72848411e-12,  3.63797881e-12,  2.63753464e-11,\n",
       "        2.72848411e-12,  5.36510925e-09,  5.23868948e-10, -1.81898940e-12,\n",
       "       -2.12821760e-10,  5.45696821e-12,  2.51202437e-09,  8.18545232e-12,\n",
       "       -3.63797881e-12,  1.38243195e-10, -3.63797881e-12, -9.09494702e-13,\n",
       "       -9.09494702e-13, -4.72937245e-11,  1.81898940e-11, -9.09494702e-13,\n",
       "        2.45563569e-11, -1.24600774e-10, -9.09494702e-13, -2.72848411e-12,\n",
       "        7.27595761e-12,  2.72848411e-12, -1.45519152e-11,  3.63797881e-12,\n",
       "       -4.54747351e-12, -9.09494702e-13,  9.09494702e-13, -9.77706804e-10,\n",
       "       -1.36424205e-11, -5.45696821e-12, -4.89126251e-09, -8.36735126e-11])"
      ]
     },
     "execution_count": 78,
     "metadata": {},
     "output_type": "execute_result"
    }
   ],
   "source": [
    "roots"
   ]
  },
  {
   "cell_type": "code",
   "execution_count": null,
   "id": "63bb97a8",
   "metadata": {},
   "outputs": [],
   "source": []
  }
 ],
 "metadata": {
  "kernelspec": {
   "display_name": "Python 3",
   "language": "python",
   "name": "python3"
  },
  "language_info": {
   "codemirror_mode": {
    "name": "ipython",
    "version": 3
   },
   "file_extension": ".py",
   "mimetype": "text/x-python",
   "name": "python",
   "nbconvert_exporter": "python",
   "pygments_lexer": "ipython3",
   "version": "3.6.13"
  }
 },
 "nbformat": 4,
 "nbformat_minor": 5
}

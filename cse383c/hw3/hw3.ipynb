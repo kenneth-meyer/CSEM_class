{
 "cells": [
  {
   "cell_type": "code",
   "execution_count": 1,
   "id": "f0b3533f-9880-4efc-8e94-2110821d82a7",
   "metadata": {},
   "outputs": [],
   "source": [
    "### Kenneth Meyer\n",
    "### HW3 - CSE383C\n",
    "### 10/4\n",
    "### coding problems"
   ]
  },
  {
   "cell_type": "code",
   "execution_count": 2,
   "id": "4ad3f638-b342-4ee2-a664-366d86c83f67",
   "metadata": {},
   "outputs": [],
   "source": [
    "import numpy as np\n",
    "import matplotlib.pyplot as plt\n",
    "from matplotlib.pyplot import figure\n",
    "#import matplotlib as mpl\n",
    "#mpl.rcParams['text.usetex'] = True\n",
    "#mpl.rcParams['text.latex.preamble'] = [r'\\usepackage{amsmath}']\n",
    "plt.rc('text', usetex=True)\n",
    "plt.rc('text.latex', preamble=r'\\usepackage{amsmath}')"
   ]
  },
  {
   "cell_type": "markdown",
   "id": "05035483-0bf3-4fae-8dff-d4b52efffa0a",
   "metadata": {},
   "source": [
    "## **1. Polynomial interpolation**"
   ]
  },
  {
   "cell_type": "markdown",
   "id": "819e84fc-fb37-4395-921d-141f5ffeb663",
   "metadata": {},
   "source": [
    "### 12.2b : calculating A and plotting $\\lVert A \\rVert_{\\infty}$"
   ]
  },
  {
   "cell_type": "code",
   "execution_count": 3,
   "id": "cd8f955b-668f-494c-838a-b8f561f652ff",
   "metadata": {},
   "outputs": [],
   "source": [
    "# A = Ay @ Ax^-1\n",
    "# Ay - VAndermonde mat. for y\n",
    "# Ax - Vandermonde mat. for x\n",
    "\n",
    "# make this general to allow for calculation using varying n and m\n",
    "def calc_A(n):\n",
    "    \n",
    "    # define equally spaced points in [-1,1] x and y\n",
    "    m = 2*n - 1\n",
    "    x = np.linspace(-1,1,n)\n",
    "    y = np.linspace(-1,1,m)\n",
    "    \n",
    "    # allocate Vandermonde matricies\n",
    "    Ax = np.zeros((n,n))\n",
    "    Ay = np.zeros((m,n))\n",
    "\n",
    "    # generate Vandermonde matrix for Ax\n",
    "    for i in range(0,n):\n",
    "        for j in range(0,n):\n",
    "            Ax[i,j] = x[i] ** j\n",
    "    \n",
    "    # generate Vandermonde matrix for Ay\n",
    "    for i in range(0,m):\n",
    "        for j in range(0,n):\n",
    "            Ay[i,j] = y[i] ** j\n",
    "            \n",
    "    A = Ay @ np.linalg.inv(Ax)\n",
    "    \n",
    "    return A"
   ]
  },
  {
   "cell_type": "code",
   "execution_count": 10,
   "id": "896dc3db-ce4f-4e47-ad80-8e7fc25bf6d5",
   "metadata": {},
   "outputs": [
    {
     "data": {
      "text/plain": [
       "Text(0, 0.5, '$\\\\lVert A \\\\rVert_{\\\\infty}$')"
      ]
     },
     "execution_count": 10,
     "metadata": {},
     "output_type": "execute_result"
    },
    {
     "data": {
      "image/png": "[encoded data removed]",
      "text/plain": [
       "<Figure size 640x480 with 1 Axes>"
      ]
     },
     "metadata": {},
     "output_type": "display_data"
    }
   ],
   "source": [
    "# calculate and plot A for n = 1,2,...30\n",
    "\n",
    "# allocation for the infinity norm of A\n",
    "A_inf = np.zeros(30)\n",
    "\n",
    "n = np.arange(1,31)\n",
    "\n",
    "# calculate A for each n, save infinity norm for each\n",
    "for i in range(0,len(A_inf)):\n",
    "    A = calc_A(n[i])\n",
    "    A_inf[i] = np.linalg.norm(A,ord=np.inf)\n",
    "    \n",
    "# plot infinity norm\n",
    "fig = plt.figure()\n",
    "ax = fig.add_subplot()\n",
    "ax.scatter(n,A_inf)\n",
    "ax.set_yscale(\"log\")\n",
    "ax.set_title(r\"$\\lVert A \\rVert_{\\infty}$ vs. $n$\",fontsize=14)\n",
    "ax.set_xlabel(\"n\")\n",
    "ax.set_ylabel(r\"$\\lVert A \\rVert_{\\infty}$\")"
   ]
  },
  {
   "cell_type": "markdown",
   "id": "4eec7839-ebbe-45c1-8e88-bafdccb5833e",
   "metadata": {},
   "source": [
    "### 12.2c : computing the condition number estimate $\\kappa(x)$"
   ]
  },
  {
   "cell_type": "code",
   "execution_count": 19,
   "id": "dd62cf78-1183-42b4-8fbe-f9d2edd9b872",
   "metadata": {},
   "outputs": [
    {
     "name": "stdout",
     "output_type": "stream",
     "text": [
      "Condition number k(x) values for each n:\n",
      "n = 1 k(x) = 1.000000e+00\n",
      "n = 2 k(x) = 1.000000e+00\n",
      "n = 3 k(x) = 1.250000e+00\n",
      "n = 4 k(x) = 1.625000e+00\n",
      "n = 5 k(x) = 2.171875e+00\n",
      "n = 6 k(x) = 2.992188e+00\n",
      "n = 7 k(x) = 4.263672e+00\n",
      "n = 8 k(x) = 6.293945e+00\n",
      "n = 9 k(x) = 9.619324e+00\n",
      "n = 10 k(x) = 1.518344e+01\n",
      "n = 11 k(x) = 2.466099e+01\n",
      "n = 12 k(x) = 4.104731e+01\n",
      "n = 13 k(x) = 6.973740e+01\n",
      "n = 14 k(x) = 1.205092e+02\n",
      "n = 15 k(x) = 2.111841e+02\n",
      "n = 16 k(x) = 3.744090e+02\n",
      "n = 17 k(x) = 6.702632e+02\n",
      "n = 18 k(x) = 1.209770e+03\n",
      "n = 19 k(x) = 2.198874e+03\n",
      "n = 20 k(x) = 4.020914e+03\n",
      "n = 21 k(x) = 7.391695e+03\n",
      "n = 22 k(x) = 1.365172e+04\n",
      "n = 23 k(x) = 2.531814e+04\n",
      "n = 24 k(x) = 4.712928e+04\n",
      "n = 25 k(x) = 8.802519e+04\n",
      "n = 26 k(x) = 1.649094e+05\n",
      "n = 27 k(x) = 3.098081e+05\n",
      "n = 28 k(x) = 5.835039e+05\n",
      "n = 29 k(x) = 1.101689e+06\n",
      "n = 30 k(x) = 2.084112e+06\n"
     ]
    }
   ],
   "source": [
    "# calculations - k(x) = infinity norm of A\n",
    "# use the same n as defined earlier\n",
    "### infinity norms of A have already been calculated!!!\n",
    "print(\"Condition number k(x) values for each n:\")\n",
    "for i in range(0,len(A_inf)):\n",
    "    print(\"n = \" + str(n[i]) + \" k(x) = \" + \"{:e}\".format(A_inf[i]))"
   ]
  },
  {
   "cell_type": "markdown",
   "id": "767a2c25-a46b-48f8-9b07-657d19937fb0",
   "metadata": {},
   "source": [
    "### 12.2d (from canvas) : square wave function using $n=11$ and $A$ as defined above"
   ]
  },
  {
   "cell_type": "code",
   "execution_count": 27,
   "id": "01ea73da-f58f-4b8d-a961-c1891c60e281",
   "metadata": {},
   "outputs": [
    {
     "name": "stdout",
     "output_type": "stream",
     "text": [
      "[0. 0. 0. 1. 1. 1. 1. 1. 0. 0. 0.]\n",
      "24.660987854007352\n",
      "2.1390075683595615\n"
     ]
    }
   ],
   "source": [
    "# allocate the x and y arrays\n",
    "n = 11\n",
    "x = np.linspace(-1,1,n)\n",
    "y = np.linspace(-1,1,2*n-1) # pretty confused regarding how to define y\n",
    "f_y = np.zeros(2*n-1)\n",
    "# this is to be used to compare p(y_j) to f(y_j)\n",
    "for i in range(0,len(y)):\n",
    "    if np.abs(y[i]) < 0.5:\n",
    "        f_y[i] = 1\n",
    "    else:\n",
    "        f_y[i] = 0\n",
    "        \n",
    "# define f(x), which is used to interpolate to p(y) (right?)\n",
    "f_x = np.zeros(n)\n",
    "\n",
    "for i in range(0,len(f_x)):\n",
    "    if np.abs(x[i]) < 0.5:\n",
    "        f_x[i] = 1\n",
    "    else:\n",
    "        f_x[i] = 0\n",
    "        \n",
    "# generate an A matrix to determine what p(y) is\n",
    "# A @ P(x_i) = P(y_j)\n",
    "\n",
    "# needed to slightly reformat this\n",
    "def calc_A_partd(n,x,y):\n",
    "    m = 2*n-1\n",
    "    # allocate Vandermonde matricies\n",
    "    Ax = np.zeros((n,n))\n",
    "    Ay = np.zeros((m,n))\n",
    "\n",
    "    # generate Vandermonde matrix for Ax\n",
    "    for i in range(0,n):\n",
    "        for j in range(0,n):\n",
    "            Ax[i,j] = x[i] ** j\n",
    "    \n",
    "    # generate Vandermonde matrix for Ay\n",
    "    for i in range(0,m):\n",
    "        for j in range(0,n):\n",
    "            Ay[i,j] = y[i] ** j\n",
    "            \n",
    "    A = Ay @ np.linalg.inv(Ax)\n",
    "    \n",
    "    return A\n",
    "\n",
    "A_11 = calc_A_partd(n,x,y)\n",
    "\n",
    "# k(x)\n",
    "k_11 = np.linalg.norm(A_11,ord=np.inf)\n",
    "# || f(y) - p(y) || (infinity norm)\n",
    "diff = f_y - (A_11 @ f_x.T) # right?...\n",
    "print(f_x)\n",
    "rel_err = np.linalg.norm(diff,ord=np.inf)\n",
    "print(k_11)\n",
    "print(rel_err)\n",
    "# the actual error is less than the condition number error estimate, which makes sense because k(x) serves as the worst guess."
   ]
  },
  {
   "cell_type": "markdown",
   "id": "0c253e6e-bb57-45f5-9c6d-d3c435b70185",
   "metadata": {},
   "source": [
    "## **3. Rounding error for $ f(x) = x - sin(x), x \\in \\mathbb{R}$**"
   ]
  },
  {
   "cell_type": "markdown",
   "id": "7536d43e-0a8a-4c02-aed9-8bbb6bfdd3dd",
   "metadata": {},
   "source": [
    "### 3a. Computation of condition number $k(x)$ (see hand written derivation) and plotting $k(x)$ for $x>0$ on a log-log scale\n"
   ]
  },
  {
   "cell_type": "code",
   "execution_count": 12,
   "id": "4aaba66c-53b0-45bc-93e9-db5b20fbe960",
   "metadata": {},
   "outputs": [],
   "source": [
    "## from handwritten derivation, k(x) = (x - x*cosx)/(x - sinx)\n",
    "\n",
    "# check that the condition number is not sensitive to using absolute value, don't know behavior of x - sin(x) well enough\n",
    "def f(x):\n",
    "    return x - np.sin(x)\n",
    "\n",
    "def k(x):\n",
    "    return (x - x*np.cos(x))/(x - np.sin(x))\n",
    "\n",
    "# k with absolute value\n",
    "def k_(x):\n",
    "    return ((1 - np.cos(x)) * np.abs(x))/np.abs(x - np.sin(x))"
   ]
  },
  {
   "cell_type": "code",
   "execution_count": 13,
   "id": "9be08644-24be-41d4-9690-5d356f097aa1",
   "metadata": {},
   "outputs": [],
   "source": [
    "# not sure the best way to show this for x > 0\n",
    "x = np.linspace(0.00001,100,10000)\n",
    "y = k(x)\n",
    "y_ = k_(x)"
   ]
  },
  {
   "cell_type": "code",
   "execution_count": 14,
   "id": "cbd86e37-3169-4538-8625-bf44834ac19d",
   "metadata": {},
   "outputs": [
    {
     "data": {
      "image/png": "[encoded data removed]",
      "text/plain": [
       "<Figure size 640x480 with 1 Axes>"
      ]
     },
     "metadata": {},
     "output_type": "display_data"
    }
   ],
   "source": [
    "plt.loglog(x,y)\n",
    "plt.loglog(x,y_)\n",
    "plt.legend([\"without absolute value\",\"with absolute value\"])\n",
    "plt.title(\"log-log plot of condition number $k(x)$\")\n",
    "plt.show()"
   ]
  },
  {
   "cell_type": "markdown",
   "id": "1312df66-6bd3-4436-b9f1-985059699a1c",
   "metadata": {},
   "source": [
    "### 3b. Approximation of $f(x)$ using taylor expansion of $sin(x)$ around $x=0$"
   ]
  },
  {
   "cell_type": "code",
   "execution_count": 9,
   "id": "a3aa6461-1217-486d-a823-569947ba4aaa",
   "metadata": {},
   "outputs": [],
   "source": [
    "def g(x):\n",
    "    return ((x**3)/6)*(1-((x**2)/20)*(1-((x**2)/42)*(1-(x**2)/72)))\n",
    "# above equation was given in the problem"
   ]
  },
  {
   "cell_type": "code",
   "execution_count": 10,
   "id": "5db34453-ab37-4a8b-a02b-260dc3a45a8d",
   "metadata": {},
   "outputs": [],
   "source": [
    "def f_g_error(x):\n",
    "    return np.abs(f(x)-g(x))/np.abs(g(x))"
   ]
  },
  {
   "cell_type": "code",
   "execution_count": 11,
   "id": "e5fe90c3-7ee4-4bdf-b4c2-839d04750811",
   "metadata": {},
   "outputs": [],
   "source": [
    "# plotting difference between f and g for 0 < x <= 2\n",
    "i = np.arange(-30,2,1)\n",
    "x = []\n",
    "for ii in range(0,len(i)):\n",
    "    x.append(2**int(i[ii]))\n",
    "x = np.array(x,np.float128)"
   ]
  },
  {
   "cell_type": "code",
   "execution_count": 12,
   "id": "7250fc8c-a49c-4f52-9a96-e98ef281e4bf",
   "metadata": {},
   "outputs": [
    {
     "ename": "SyntaxError",
     "evalue": "unterminated string literal (detected at line 3) (3994790960.py, line 3)",
     "output_type": "error",
     "traceback": [
      "\u001b[0;36m  Cell \u001b[0;32mIn [12], line 3\u001b[0;36m\u001b[0m\n\u001b[0;31m    plt.title(\"difference between\u001b[0m\n\u001b[0m              ^\u001b[0m\n\u001b[0;31mSyntaxError\u001b[0m\u001b[0;31m:\u001b[0m unterminated string literal (detected at line 3)\n"
     ]
    }
   ],
   "source": [
    "f_g_err = f_g_error(x)\n",
    "plt.loglog(x,f_g_err)\n",
    "plt.title(\"difference between "
   ]
  },
  {
   "cell_type": "markdown",
   "id": "9fc6d17d",
   "metadata": {},
   "source": [
    "## For very small values of x, the error is approaching 1. x - sin(x) clearly suffers from cancellation errors at small values, as a cancellation error in $f(x) = x - sin(x)$ would make the equation representing the difference of $f(x)$ and its taylor series approximation $g(x)$ reduce to the following: $\\frac{|f(x) - g(x)|}{|g(x)|} = \\frac{|0 - g(x)|}{|g(x)|} = 1$. As x approaches 0, the error increases logarithmically."
   ]
  },
  {
   "cell_type": "code",
   "execution_count": null,
   "id": "8e0e78a8",
   "metadata": {},
   "outputs": [],
   "source": [
    "# ^^ check if the cancellation actually follows as I proposed.\n",
    "print(i)"
   ]
  },
  {
   "cell_type": "markdown",
   "id": "c512dcc8",
   "metadata": {},
   "source": [
    "## **4. Evaluation of $p(x)$ using horner's algorithm, along with error analysis.**"
   ]
  },
  {
   "cell_type": "code",
   "execution_count": null,
   "id": "a922d0b4",
   "metadata": {},
   "outputs": [],
   "source": [
    "# machine epsilon for numpy\n",
    "print(np.finfo(float).eps)"
   ]
  },
  {
   "cell_type": "code",
   "execution_count": null,
   "id": "fcbf6bf4",
   "metadata": {},
   "outputs": [],
   "source": [
    "# definition of horner's algorithm\n",
    "def horner(a,x):\n",
    "    d = len(a)\n",
    "    p = a[d-1]\n",
    "    # check that last\n",
    "    for i in range(d-2,-1,-1):\n",
    "        p = x*p + a[i]\n",
    "        \n",
    "    return p\n",
    "\n",
    "# definition of p(x) using eqn 1\n",
    "def p(x):\n",
    "    p = x**9 - 18*x**8 + 144*x**7 - 672*x**6 + 2016*x**5 - 4032*x**4 + 5376*x**3 - 4608*x**2 + 2304*x - 512\n",
    "    return p"
   ]
  },
  {
   "cell_type": "code",
   "execution_count": null,
   "id": "bee2d604",
   "metadata": {},
   "outputs": [],
   "source": [
    "x_13 = np.linspace(1,3,2**13)\n",
    "eps = np.finfo(float).eps\n",
    "#x_2e = np.linspace(2 - eps,2 + eps, 2**13)\n",
    "x_2e = np.linspace(1.999,2.001,2**13)\n",
    "a = np.array([-512,2304,-4608,5376,-4032,2016,-672,144,-18,1])\n",
    "horner_x13 = horner(a,x_13)\n",
    "horner_x2e = horner(a,x_2e)\n",
    "p_x13 = p(x_13)\n",
    "p_x2e = p(x_2e)"
   ]
  },
  {
   "cell_type": "code",
   "execution_count": null,
   "id": "74b31b4c",
   "metadata": {},
   "outputs": [],
   "source": [
    "# make this plot look nice later\n",
    "fig = plt.figure()\n",
    "ax1 = fig.add_subplot(211)\n",
    "ax2 = fig.add_subplot(212)\n",
    "fig.suptitle(\"$p(x)$ in $x \\in [1,3]$\",fontsize=14)\n",
    "fig.tight_layout(pad=2.0)\n",
    "ax1.plot(x_13,horner_x13)\n",
    "ax2.plot(x_13,p_x13)\n",
    "ax1.set_title(\"Horner's algorithm\")\n",
    "ax2.set_title(r\"polynomial $p(x)$\")\n",
    "#ax.legend([\"Horner's algorithm\", \"polynomial $p(x)$\"])\n",
    "#fig.show()"
   ]
  },
  {
   "cell_type": "markdown",
   "id": "12cebdb9-3ad7-4583-b760-cfb54e65dc7f",
   "metadata": {},
   "source": [
    "## The plots above show that horner's algorithm appears to compute $p(x)$ well, there is no observed difference between the plots of $p(x)$ computed explicitly vs. using horner's algorithm."
   ]
  },
  {
   "cell_type": "code",
   "execution_count": null,
   "id": "2194602a",
   "metadata": {},
   "outputs": [],
   "source": [
    "#%matplotlib widget\n",
    "fig = plt.figure()\n",
    "ax1 = fig.add_subplot(211)\n",
    "ax2 = fig.add_subplot(212)\n",
    "fig.suptitle(\"$p(x)$ in a neighborhood of $x=2$\",fontsize=14)\n",
    "fig.tight_layout(pad=2.0)\n",
    "ax1.plot(x_2e,horner_x2e)\n",
    "ax2.plot(x_2e,p_x2e)\n",
    "ax1.set_title(\"Horner's algorithm\")\n",
    "ax2.set_title(\"Explicit $p(x)$\")\n",
    "#plt.legend([\"Horner's algorithm\", \"polynomial $p(x)$\"])\n",
    "# does nothing\n",
    "#plt.xlim(1,3)\n",
    "plt.show()"
   ]
  },
  {
   "cell_type": "markdown",
   "id": "d6d4b73c-4f4f-480a-b9f6-cb5ec084dee7",
   "metadata": {},
   "source": [
    "## The plots above show that there is a lot of noise in $p(x)$ when calculated explicitly and when using horner's algorithm. Horner's algorithm appears to do a better job at minimizing the error due to machine precision as the maximal values seen using Horner's algorithm are aboue 1e-11, and they are about 2e-11 when calculating $p(x)$ explicitly with horner's algorithm."
   ]
  },
  {
   "cell_type": "code",
   "execution_count": null,
   "id": "9855a35c",
   "metadata": {},
   "outputs": [],
   "source": [
    "x_2e.dtype\n",
    "## run this on my desktop tomorrow to fix the plot shown above ^"
   ]
  },
  {
   "cell_type": "markdown",
   "id": "5e91af16-de36-4f01-8d5d-e2df63f4d124",
   "metadata": {},
   "source": [
    "## **4c : running error analysis**"
   ]
  },
  {
   "cell_type": "code",
   "execution_count": null,
   "id": "51c96994-9218-46bd-98b3-3e040368a1b4",
   "metadata": {},
   "outputs": [],
   "source": [
    "# need to figure out how to code this up!"
   ]
  },
  {
   "cell_type": "markdown",
   "id": "9fc6acc4",
   "metadata": {},
   "source": [
    "## **4d : use binary search to find the roots of $p(x)$ for $x \\in [1.5,2.5]$**"
   ]
  },
  {
   "cell_type": "code",
   "execution_count": null,
   "id": "6bd703a6",
   "metadata": {},
   "outputs": [],
   "source": [
    "def binary_search_p(guess):\n",
    "    # choose a x in the range of [1.5,2.5]\n",
    "    x_u = 2.5\n",
    "    x_l = 1.5\n",
    "    x_g = guess\n",
    "    \n",
    "    # pick appropriate bounds dependent on location of x\n",
    "    if p(x_g) < 0:\n",
    "        x_l = x_g\n",
    "    else:\n",
    "        x_u = x_g\n",
    "    \n",
    "    found = False\n",
    "    root = 0\n",
    "    # as of now, could run forever\n",
    "    while not found:\n",
    "        # monotone increasing function\n",
    "        x_m = (x_l + x_u)/2\n",
    "\n",
    "        # play around with tolerance to see what happens\n",
    "        if np.isclose(p(x_m),0):\n",
    "            root = p(x_m)\n",
    "            found = True\n",
    "        elif p(x_l)*p(x_m) < 0:\n",
    "            x_u = x_m\n",
    "        else:\n",
    "            x_l = x_m\n",
    "            \n",
    "    return root,x_m"
   ]
  },
  {
   "cell_type": "code",
   "execution_count": null,
   "id": "4152b68b",
   "metadata": {},
   "outputs": [],
   "source": [
    "# search for roots in the range 1.5 to 2.5\n",
    "num_runs = 100000\n",
    "# save the root and x_m\n",
    "roots = np.zeros((num_runs,2))\n",
    "for i in range(0,num_runs):\n",
    "    guess = np.random.uniform(1.5,2.5)\n",
    "    roots[i] = binary_search_p(guess)"
   ]
  },
  {
   "cell_type": "code",
   "execution_count": null,
   "id": "fde0ea4c",
   "metadata": {},
   "outputs": [],
   "source": [
    "plt.hist(roots[:,1]) # plot root or x_m"
   ]
  },
  {
   "cell_type": "markdown",
   "id": "f219779f-0948-43ed-bfb4-de553e50b795",
   "metadata": {},
   "source": [
    "### estimation of accuracy of the root: to estimate the accuracy of the root, we can simply find the average of the absolute value of the calculated roots. Our \"convergence\" criteria will definitely affect this."
   ]
  },
  {
   "cell_type": "code",
   "execution_count": null,
   "id": "63bb97a8",
   "metadata": {},
   "outputs": [],
   "source": [
    "plt.hist(roots[:,0])\n",
    "plt.title(\"Distribution of $p(x)$ roots using binary search\")\n",
    "print(\"Rough estimation of accuracy of the root: \" + str(np.mean(np.abs(roots[:,0]))))"
   ]
  },
  {
   "cell_type": "markdown",
   "id": "67d93551-2694-42b9-8595-ac526ad83b71",
   "metadata": {},
   "source": [
    "### As seen above, the accuracy of the root is approximately 7.3e-10."
   ]
  },
  {
   "cell_type": "code",
   "execution_count": null,
   "id": "a1dc444d-3d27-41b4-a9a5-451d4227b2c8",
   "metadata": {},
   "outputs": [],
   "source": []
  }
 ],
 "metadata": {
  "kernelspec": {
   "display_name": "Python 3 (ipykernel)",
   "language": "python",
   "name": "python3"
  },
  "language_info": {
   "codemirror_mode": {
    "name": "ipython",
    "version": 3
   },
   "file_extension": ".py",
   "mimetype": "text/x-python",
   "name": "python",
   "nbconvert_exporter": "python",
   "pygments_lexer": "ipython3",
   "version": "3.10.6"
  }
 },
 "nbformat": 4,
 "nbformat_minor": 5
}
